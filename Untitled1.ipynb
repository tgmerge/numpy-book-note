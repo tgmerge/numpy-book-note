{
 "cells": [
  {
   "cell_type": "code",
   "execution_count": 19,
   "metadata": {},
   "outputs": [
    {
     "name": "stdout",
     "output_type": "stream",
     "text": [
      "343\n",
      "['dgd', 'dge', 'dgf', 'dhd', 'dhe', 'dhf', 'did', 'die', 'dif', 'egd', 'ege', 'egf', 'ehd', 'ehe', 'ehf', 'eid', 'eie', 'eif', 'fgd', 'fge', 'fgf', 'fhd', 'fhe', 'fhf', 'fid', 'fie', 'fif']\n",
      "27\n"
     ]
    }
   ],
   "source": [
    "import itertools\n",
    "\n",
    "values = ['', '', 'abc', 'def', 'ghi', 'jkl', 'mno', 'pqrs', 'tuv', 'wxyz']\n",
    "\n",
    "input_nums = input()\n",
    "\n",
    "lists = (values[int(i)] for i in input_nums)\n",
    "\n",
    "result_generator = map(lambda x: ''.join(x), itertools.product(*lists))\n",
    "\n",
    "result1 = list(result_generator)\n",
    "\n",
    "print(result1)\n",
    "print(len(result1))"
   ]
  },
  {
   "cell_type": "code",
   "execution_count": 13,
   "metadata": {},
   "outputs": [],
   "source": [
    "#         0   1   2      3      4      5      6      7       8      9 \n",
    "values = ['', '', 'abc', 'def', 'ghi', 'jkl', 'mno', 'pqrs', 'tuv', 'wxyz']\n",
    "\n",
    "# 输入字符串\n",
    "input_nums = '234567892345'\n",
    "\n",
    "# 输出结果集\n",
    "results = []\n",
    "\n",
    "\n",
    "def loop(position: int, current_str: str) -> None: \n",
    "    '''\n",
    "    position: 当前位置\n",
    "    current_str: 当前结果\n",
    "    '''\n",
    "\n",
    "    if position >= len(input_nums):\n",
    "        results.append(current_str)\n",
    "        return\n",
    "\n",
    "    num = int(input_nums[position])\n",
    "\n",
    "    for c in values[num]:\n",
    "        loop(position + 1, current_str + c)\n",
    "\n",
    "\n",
    "loop(0, '')\n",
    "result2 = results"
   ]
  },
  {
   "cell_type": "code",
   "execution_count": 14,
   "metadata": {},
   "outputs": [
    {
     "data": {
      "text/plain": [
       "944784"
      ]
     },
     "execution_count": 14,
     "metadata": {},
     "output_type": "execute_result"
    }
   ],
   "source": [
    "len(result1)"
   ]
  },
  {
   "cell_type": "code",
   "execution_count": 15,
   "metadata": {},
   "outputs": [
    {
     "data": {
      "text/plain": [
       "944784"
      ]
     },
     "execution_count": 15,
     "metadata": {},
     "output_type": "execute_result"
    }
   ],
   "source": [
    "len(result2)"
   ]
  },
  {
   "cell_type": "code",
   "execution_count": 16,
   "metadata": {},
   "outputs": [
    {
     "data": {
      "text/plain": [
       "True"
      ]
     },
     "execution_count": 16,
     "metadata": {},
     "output_type": "execute_result"
    }
   ],
   "source": [
    "all(result1[i] == result2[i] for i in range(944784))"
   ]
  },
  {
   "cell_type": "code",
   "execution_count": null,
   "metadata": {
    "collapsed": true
   },
   "outputs": [],
   "source": []
  }
 ],
 "metadata": {
  "kernelspec": {
   "display_name": "Python 3",
   "language": "python",
   "name": "python3"
  },
  "language_info": {
   "codemirror_mode": {
    "name": "ipython",
    "version": 3
   },
   "file_extension": ".py",
   "mimetype": "text/x-python",
   "name": "python",
   "nbconvert_exporter": "python",
   "pygments_lexer": "ipython3",
   "version": "3.6.0"
  }
 },
 "nbformat": 4,
 "nbformat_minor": 2
}
