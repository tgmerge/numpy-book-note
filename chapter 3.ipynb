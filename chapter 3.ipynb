{
 "cells": [
  {
   "cell_type": "markdown",
   "metadata": {},
   "source": [
    "Jupyter Notebook Themes using [jupyter-themes](https://github.com/dunovank/jupyter-themes):\n",
    "\n",
    "```\n",
    "jt -t oceans16 -T -alt -f fira -nf robotosans -tf notoserif -tfs 12\n",
    "```\n",
    "\n",
    "Below: note reading *NumPy Beginner's Guide*. "
   ]
  },
  {
   "cell_type": "code",
   "execution_count": 1,
   "metadata": {
    "collapsed": true
   },
   "outputs": [],
   "source": [
    "import numpy as np\n",
    "import matplotlib.pyplot as plt\n",
    "# Apply jupyter-themes' theme on matplotlib\n",
    "from jupyterthemes import jtplot\n",
    "jtplot.style(context='notebook')"
   ]
  },
  {
   "cell_type": "code",
   "execution_count": 5,
   "metadata": {
    "scrolled": false
   },
   "outputs": [
    {
     "name": "stdout",
     "output_type": "stream",
     "text": [
      "Help on function savetxt in module numpy.lib.npyio:\n",
      "\n",
      "savetxt(fname, X, fmt='%.18e', delimiter=' ', newline='\\n', header='', footer='', comments='# ')\n",
      "    Save an array to a text file.\n",
      "    \n",
      "    Parameters\n",
      "    ----------\n",
      "    fname : filename or file handle\n",
      "        If the filename ends in ``.gz``, the file is automatically saved in\n",
      "        compressed gzip format.  `loadtxt` understands gzipped files\n",
      "        transparently.\n",
      "    X : array_like\n",
      "        Data to be saved to a text file.\n",
      "    fmt : str or sequence of strs, optional\n",
      "        A single format (%10.5f), a sequence of formats, or a\n",
      "        multi-format string, e.g. 'Iteration %d -- %10.5f', in which\n",
      "        case `delimiter` is ignored. For complex `X`, the legal options\n",
      "        for `fmt` are:\n",
      "            a) a single specifier, `fmt='%.4e'`, resulting in numbers formatted\n",
      "                like `' (%s+%sj)' % (fmt, fmt)`\n",
      "            b) a full string specifying every real and imaginary part, e.g.\n",
      "                `' %.4e %+.4ej %.4e %+.4ej %.4e %+.4ej'` for 3 columns\n",
      "            c) a list of specifiers, one per column - in this case, the real\n",
      "                and imaginary part must have separate specifiers,\n",
      "                e.g. `['%.3e + %.3ej', '(%.15e%+.15ej)']` for 2 columns\n",
      "    delimiter : str, optional\n",
      "        String or character separating columns.\n",
      "    newline : str, optional\n",
      "        String or character separating lines.\n",
      "    \n",
      "        .. versionadded:: 1.5.0\n",
      "    header : str, optional\n",
      "        String that will be written at the beginning of the file.\n",
      "    \n",
      "        .. versionadded:: 1.7.0\n",
      "    footer : str, optional\n",
      "        String that will be written at the end of the file.\n",
      "    \n",
      "        .. versionadded:: 1.7.0\n",
      "    comments : str, optional\n",
      "        String that will be prepended to the ``header`` and ``footer`` strings,\n",
      "        to mark them as comments. Default: '# ',  as expected by e.g.\n",
      "        ``numpy.loadtxt``.\n",
      "    \n",
      "        .. versionadded:: 1.7.0\n",
      "    \n",
      "    \n",
      "    See Also\n",
      "    --------\n",
      "    save : Save an array to a binary file in NumPy ``.npy`` format\n",
      "    savez : Save several arrays into an uncompressed ``.npz`` archive\n",
      "    savez_compressed : Save several arrays into a compressed ``.npz`` archive\n",
      "    \n",
      "    Notes\n",
      "    -----\n",
      "    Further explanation of the `fmt` parameter\n",
      "    (``%[flag]width[.precision]specifier``):\n",
      "    \n",
      "    flags:\n",
      "        ``-`` : left justify\n",
      "    \n",
      "        ``+`` : Forces to precede result with + or -.\n",
      "    \n",
      "        ``0`` : Left pad the number with zeros instead of space (see width).\n",
      "    \n",
      "    width:\n",
      "        Minimum number of characters to be printed. The value is not truncated\n",
      "        if it has more characters.\n",
      "    \n",
      "    precision:\n",
      "        - For integer specifiers (eg. ``d,i,o,x``), the minimum number of\n",
      "          digits.\n",
      "        - For ``e, E`` and ``f`` specifiers, the number of digits to print\n",
      "          after the decimal point.\n",
      "        - For ``g`` and ``G``, the maximum number of significant digits.\n",
      "        - For ``s``, the maximum number of characters.\n",
      "    \n",
      "    specifiers:\n",
      "        ``c`` : character\n",
      "    \n",
      "        ``d`` or ``i`` : signed decimal integer\n",
      "    \n",
      "        ``e`` or ``E`` : scientific notation with ``e`` or ``E``.\n",
      "    \n",
      "        ``f`` : decimal floating point\n",
      "    \n",
      "        ``g,G`` : use the shorter of ``e,E`` or ``f``\n",
      "    \n",
      "        ``o`` : signed octal\n",
      "    \n",
      "        ``s`` : string of characters\n",
      "    \n",
      "        ``u`` : unsigned decimal integer\n",
      "    \n",
      "        ``x,X`` : unsigned hexadecimal integer\n",
      "    \n",
      "    This explanation of ``fmt`` is not complete, for an exhaustive\n",
      "    specification see [1]_.\n",
      "    \n",
      "    References\n",
      "    ----------\n",
      "    .. [1] `Format Specification Mini-Language\n",
      "           <http://docs.python.org/library/string.html#\n",
      "           format-specification-mini-language>`_, Python Documentation.\n",
      "    \n",
      "    Examples\n",
      "    --------\n",
      "    >>> x = y = z = np.arange(0.0,5.0,1.0)\n",
      "    >>> np.savetxt('test.out', x, delimiter=',')   # X is an array\n",
      "    >>> np.savetxt('test.out', (x,y,z))   # x,y,z equal sized 1D arrays\n",
      "    >>> np.savetxt('test.out', x, fmt='%1.4e')   # use exponential notation\n",
      "\n"
     ]
    }
   ],
   "source": [
    "help(np.savetxt)"
   ]
  },
  {
   "cell_type": "code",
   "execution_count": 6,
   "metadata": {
    "collapsed": true
   },
   "outputs": [],
   "source": [
    "np.savetxt('eye.txt', e)"
   ]
  },
  {
   "cell_type": "code",
   "execution_count": 7,
   "metadata": {},
   "outputs": [
    {
     "data": {
      "application/json": {
       "cell": {
        "!": "OSMagics",
        "HTML": "Other",
        "SVG": "Other",
        "bash": "Other",
        "capture": "ExecutionMagics",
        "cmd": "Other",
        "debug": "ExecutionMagics",
        "file": "Other",
        "html": "DisplayMagics",
        "javascript": "DisplayMagics",
        "js": "DisplayMagics",
        "latex": "DisplayMagics",
        "perl": "Other",
        "prun": "ExecutionMagics",
        "pypy": "Other",
        "python": "Other",
        "python2": "Other",
        "python3": "Other",
        "ruby": "Other",
        "script": "ScriptMagics",
        "sh": "Other",
        "svg": "DisplayMagics",
        "sx": "OSMagics",
        "system": "OSMagics",
        "time": "ExecutionMagics",
        "timeit": "ExecutionMagics",
        "writefile": "OSMagics"
       },
       "line": {
        "alias": "OSMagics",
        "alias_magic": "BasicMagics",
        "autocall": "AutoMagics",
        "automagic": "AutoMagics",
        "autosave": "KernelMagics",
        "bookmark": "OSMagics",
        "cd": "OSMagics",
        "clear": "KernelMagics",
        "cls": "KernelMagics",
        "colors": "BasicMagics",
        "config": "ConfigMagics",
        "connect_info": "KernelMagics",
        "copy": "Other",
        "ddir": "Other",
        "debug": "ExecutionMagics",
        "dhist": "OSMagics",
        "dirs": "OSMagics",
        "doctest_mode": "BasicMagics",
        "echo": "Other",
        "ed": "Other",
        "edit": "KernelMagics",
        "env": "OSMagics",
        "gui": "BasicMagics",
        "hist": "Other",
        "history": "HistoryMagics",
        "killbgscripts": "ScriptMagics",
        "ldir": "Other",
        "less": "KernelMagics",
        "load": "CodeMagics",
        "load_ext": "ExtensionMagics",
        "loadpy": "CodeMagics",
        "logoff": "LoggingMagics",
        "logon": "LoggingMagics",
        "logstart": "LoggingMagics",
        "logstate": "LoggingMagics",
        "logstop": "LoggingMagics",
        "ls": "Other",
        "lsmagic": "BasicMagics",
        "macro": "ExecutionMagics",
        "magic": "BasicMagics",
        "matplotlib": "PylabMagics",
        "mkdir": "Other",
        "more": "KernelMagics",
        "notebook": "BasicMagics",
        "page": "BasicMagics",
        "pastebin": "CodeMagics",
        "pdb": "ExecutionMagics",
        "pdef": "NamespaceMagics",
        "pdoc": "NamespaceMagics",
        "pfile": "NamespaceMagics",
        "pinfo": "NamespaceMagics",
        "pinfo2": "NamespaceMagics",
        "popd": "OSMagics",
        "pprint": "BasicMagics",
        "precision": "BasicMagics",
        "profile": "BasicMagics",
        "prun": "ExecutionMagics",
        "psearch": "NamespaceMagics",
        "psource": "NamespaceMagics",
        "pushd": "OSMagics",
        "pwd": "OSMagics",
        "pycat": "OSMagics",
        "pylab": "PylabMagics",
        "qtconsole": "KernelMagics",
        "quickref": "BasicMagics",
        "recall": "HistoryMagics",
        "rehashx": "OSMagics",
        "reload_ext": "ExtensionMagics",
        "ren": "Other",
        "rep": "Other",
        "rerun": "HistoryMagics",
        "reset": "NamespaceMagics",
        "reset_selective": "NamespaceMagics",
        "rmdir": "Other",
        "run": "ExecutionMagics",
        "save": "CodeMagics",
        "sc": "OSMagics",
        "set_env": "OSMagics",
        "store": "StoreMagics",
        "sx": "OSMagics",
        "system": "OSMagics",
        "tb": "ExecutionMagics",
        "time": "ExecutionMagics",
        "timeit": "ExecutionMagics",
        "unalias": "OSMagics",
        "unload_ext": "ExtensionMagics",
        "who": "NamespaceMagics",
        "who_ls": "NamespaceMagics",
        "whos": "NamespaceMagics",
        "xdel": "NamespaceMagics",
        "xmode": "BasicMagics"
       }
      },
      "text/plain": [
       "Available line magics:\n",
       "%alias  %alias_magic  %autocall  %automagic  %autosave  %bookmark  %cd  %clear  %cls  %colors  %config  %connect_info  %copy  %ddir  %debug  %dhist  %dirs  %doctest_mode  %echo  %ed  %edit  %env  %gui  %hist  %history  %killbgscripts  %ldir  %less  %load  %load_ext  %loadpy  %logoff  %logon  %logstart  %logstate  %logstop  %ls  %lsmagic  %macro  %magic  %matplotlib  %mkdir  %more  %notebook  %page  %pastebin  %pdb  %pdef  %pdoc  %pfile  %pinfo  %pinfo2  %popd  %pprint  %precision  %profile  %prun  %psearch  %psource  %pushd  %pwd  %pycat  %pylab  %qtconsole  %quickref  %recall  %rehashx  %reload_ext  %ren  %rep  %rerun  %reset  %reset_selective  %rmdir  %run  %save  %sc  %set_env  %store  %sx  %system  %tb  %time  %timeit  %unalias  %unload_ext  %who  %who_ls  %whos  %xdel  %xmode\n",
       "\n",
       "Available cell magics:\n",
       "%%!  %%HTML  %%SVG  %%bash  %%capture  %%cmd  %%debug  %%file  %%html  %%javascript  %%js  %%latex  %%perl  %%prun  %%pypy  %%python  %%python2  %%python3  %%ruby  %%script  %%sh  %%svg  %%sx  %%system  %%time  %%timeit  %%writefile\n",
       "\n",
       "Automagic is ON, % prefix IS NOT needed for line magics."
      ]
     },
     "execution_count": 7,
     "metadata": {},
     "output_type": "execute_result"
    }
   ],
   "source": [
    "%lsmagic"
   ]
  },
  {
   "cell_type": "code",
   "execution_count": 8,
   "metadata": {
    "scrolled": true
   },
   "outputs": [
    {
     "name": "stdout",
     "output_type": "stream",
     "text": [
      "0.000000000000000000e+00 0.000000000000000000e+00 0.000000000000000000e+00 0.000000000000000000e+00 0.000000000000000000e+00 0.000000000000000000e+00 0.000000000000000000e+00 0.000000000000000000e+00 0.000000000000000000e+00 0.000000000000000000e+00\n",
      "0.000000000000000000e+00 0.000000000000000000e+00 0.000000000000000000e+00 0.000000000000000000e+00 0.000000000000000000e+00 0.000000000000000000e+00 0.000000000000000000e+00 0.000000000000000000e+00 0.000000000000000000e+00 0.000000000000000000e+00\n",
      "1.000000000000000000e+00 0.000000000000000000e+00 0.000000000000000000e+00 0.000000000000000000e+00 0.000000000000000000e+00 0.000000000000000000e+00 0.000000000000000000e+00 0.000000000000000000e+00 0.000000000000000000e+00 0.000000000000000000e+00\n",
      "0.000000000000000000e+00 1.000000000000000000e+00 0.000000000000000000e+00 0.000000000000000000e+00 0.000000000000000000e+00 0.000000000000000000e+00 0.000000000000000000e+00 0.000000000000000000e+00 0.000000000000000000e+00 0.000000000000000000e+00\n",
      "0.000000000000000000e+00 0.000000000000000000e+00 1.000000000000000000e+00 0.000000000000000000e+00 0.000000000000000000e+00 0.000000000000000000e+00 0.000000000000000000e+00 0.000000000000000000e+00 0.000000000000000000e+00 0.000000000000000000e+00\n",
      "0.000000000000000000e+00 0.000000000000000000e+00 0.000000000000000000e+00 1.000000000000000000e+00 0.000000000000000000e+00 0.000000000000000000e+00 0.000000000000000000e+00 0.000000000000000000e+00 0.000000000000000000e+00 0.000000000000000000e+00\n",
      "0.000000000000000000e+00 0.000000000000000000e+00 0.000000000000000000e+00 0.000000000000000000e+00 1.000000000000000000e+00 0.000000000000000000e+00 0.000000000000000000e+00 0.000000000000000000e+00 0.000000000000000000e+00 0.000000000000000000e+00\n",
      "0.000000000000000000e+00 0.000000000000000000e+00 0.000000000000000000e+00 0.000000000000000000e+00 0.000000000000000000e+00 1.000000000000000000e+00 0.000000000000000000e+00 0.000000000000000000e+00 0.000000000000000000e+00 0.000000000000000000e+00\n",
      "0.000000000000000000e+00 0.000000000000000000e+00 0.000000000000000000e+00 0.000000000000000000e+00 0.000000000000000000e+00 0.000000000000000000e+00 1.000000000000000000e+00 0.000000000000000000e+00 0.000000000000000000e+00 0.000000000000000000e+00\n",
      "0.000000000000000000e+00 0.000000000000000000e+00 0.000000000000000000e+00 0.000000000000000000e+00 0.000000000000000000e+00 0.000000000000000000e+00 0.000000000000000000e+00 1.000000000000000000e+00 0.000000000000000000e+00 0.000000000000000000e+00\n"
     ]
    }
   ],
   "source": [
    "!more eye.txt"
   ]
  },
  {
   "cell_type": "code",
   "execution_count": 9,
   "metadata": {
    "scrolled": true
   },
   "outputs": [
    {
     "name": "stdout",
     "output_type": "stream",
     "text": [
      "AAPL,28-01-2011, ,344.17,344.4,333.53,336.1,21144800\n",
      "AAPL,31-01-2011, ,335.8,340.04,334.3,339.32,13473000\n",
      "AAPL,01-02-2011, ,341.3,345.65,340.98,345.03,15236800\n",
      "AAPL,02-02-2011, ,344.45,345.25,343.55,344.32,9242600\n",
      "AAPL,03-02-2011, ,343.8,344.24,338.55,343.44,14064100\n",
      "AAPL,04-02-2011, ,343.61,346.7,343.51,346.5,11494200\n",
      "AAPL,07-02-2011, ,347.89,353.25,347.64,351.88,17322100\n",
      "AAPL,08-02-2011, ,353.68,355.52,352.15,355.2,13608500\n",
      "AAPL,09-02-2011, ,355.19,359,354.87,358.16,17240800\n",
      "AAPL,10-02-2011, ,357.39,360,348,354.54,33162400\n",
      "AAPL,11-02-2011, ,354.75,357.8,353.54,356.85,13127500\n",
      "AAPL,14-02-2011, ,356.79,359.48,356.71,359.18,11086200\n",
      "AAPL,15-02-2011, ,359.19,359.97,357.55,359.9,10149000\n",
      "AAPL,16-02-2011, ,360.8,364.9,360.5,363.13,17184100\n",
      "AAPL,17-02-2011, ,357.1,360.27,356.52,358.3,18949000\n",
      "AAPL,18-02-2011, ,358.21,359.5,349.52,350.56,29144500\n",
      "AAPL,22-02-2011, ,342.05,345.4,337.72,338.61,31162200\n",
      "AAPL,23-02-2011, ,338.77,344.64,338.61,342.62,23994700\n",
      "AAPL,24-02-2011, ,344.02,345.15,338.37,342.88,17853500\n",
      "AAPL,25-02-2011, ,345.29,348.43,344.8,348.16,13572000\n",
      "AAPL,28-02-2011, ,351.21,355.05,351.12,353.21,14395400\n",
      "AAPL,01-03-2011, ,355.47,355.72,347.68,349.31,16290300\n",
      "AAPL,02-03-2011, ,349.96,354.35,348.4,352.12,21521000\n",
      "AAPL,03-03-2011, ,357.2,359.79,355.92,359.56,17885200\n",
      "AAPL,04-03-2011, ,360.07,360.29,357.75,360,16188000\n",
      "AAPL,07-03-2011, ,361.11,361.67,351.31,355.36,19504300\n",
      "AAPL,08-03-2011, ,354.91,357.4,352.25,355.76,12718000\n",
      "AAPL,09-03-2011, ,354.69,354.76,350.6,352.47,16192700\n",
      "AAPL,10-03-2011, ,349.69,349.77,344.9,346.67,18138800\n",
      "AAPL,11-03-2011, ,345.4,352.32,345,351.99,16824200\n"
     ]
    }
   ],
   "source": [
    "!more data.csv"
   ]
  },
  {
   "cell_type": "code",
   "execution_count": 10,
   "metadata": {
    "scrolled": true
   },
   "outputs": [
    {
     "name": "stdout",
     "output_type": "stream",
     "text": [
      "Help on function loadtxt in module numpy.lib.npyio:\n",
      "\n",
      "loadtxt(fname, dtype=<class 'float'>, comments='#', delimiter=None, converters=None, skiprows=0, usecols=None, unpack=False, ndmin=0)\n",
      "    Load data from a text file.\n",
      "    \n",
      "    Each row in the text file must have the same number of values.\n",
      "    \n",
      "    Parameters\n",
      "    ----------\n",
      "    fname : file, str, or pathlib.Path\n",
      "        File, filename, or generator to read.  If the filename extension is\n",
      "        ``.gz`` or ``.bz2``, the file is first decompressed. Note that\n",
      "        generators should return byte strings for Python 3k.\n",
      "    dtype : data-type, optional\n",
      "        Data-type of the resulting array; default: float.  If this is a\n",
      "        structured data-type, the resulting array will be 1-dimensional, and\n",
      "        each row will be interpreted as an element of the array.  In this\n",
      "        case, the number of columns used must match the number of fields in\n",
      "        the data-type.\n",
      "    comments : str or sequence, optional\n",
      "        The characters or list of characters used to indicate the start of a\n",
      "        comment;\n",
      "        default: '#'.\n",
      "    delimiter : str, optional\n",
      "        The string used to separate values.  By default, this is any\n",
      "        whitespace.\n",
      "    converters : dict, optional\n",
      "        A dictionary mapping column number to a function that will convert\n",
      "        that column to a float.  E.g., if column 0 is a date string:\n",
      "        ``converters = {0: datestr2num}``.  Converters can also be used to\n",
      "        provide a default value for missing data (but see also `genfromtxt`):\n",
      "        ``converters = {3: lambda s: float(s.strip() or 0)}``.  Default: None.\n",
      "    skiprows : int, optional\n",
      "        Skip the first `skiprows` lines; default: 0.\n",
      "    \n",
      "    usecols : int or sequence, optional\n",
      "        Which columns to read, with 0 being the first. For example,\n",
      "        usecols = (1,4,5) will extract the 2nd, 5th and 6th columns.\n",
      "        The default, None, results in all columns being read.\n",
      "    \n",
      "        .. versionadded:: 1.11.0\n",
      "    \n",
      "        Also when a single column has to be read it is possible to use\n",
      "        an integer instead of a tuple. E.g ``usecols = 3`` reads the\n",
      "        fourth column the same way as `usecols = (3,)`` would.\n",
      "    \n",
      "    unpack : bool, optional\n",
      "        If True, the returned array is transposed, so that arguments may be\n",
      "        unpacked using ``x, y, z = loadtxt(...)``.  When used with a structured\n",
      "        data-type, arrays are returned for each field.  Default is False.\n",
      "    ndmin : int, optional\n",
      "        The returned array will have at least `ndmin` dimensions.\n",
      "        Otherwise mono-dimensional axes will be squeezed.\n",
      "        Legal values: 0 (default), 1 or 2.\n",
      "    \n",
      "        .. versionadded:: 1.6.0\n",
      "    \n",
      "    Returns\n",
      "    -------\n",
      "    out : ndarray\n",
      "        Data read from the text file.\n",
      "    \n",
      "    See Also\n",
      "    --------\n",
      "    load, fromstring, fromregex\n",
      "    genfromtxt : Load data with missing values handled as specified.\n",
      "    scipy.io.loadmat : reads MATLAB data files\n",
      "    \n",
      "    Notes\n",
      "    -----\n",
      "    This function aims to be a fast reader for simply formatted files.  The\n",
      "    `genfromtxt` function provides more sophisticated handling of, e.g.,\n",
      "    lines with missing values.\n",
      "    \n",
      "    .. versionadded:: 1.10.0\n",
      "    \n",
      "    The strings produced by the Python float.hex method can be used as\n",
      "    input for floats.\n",
      "    \n",
      "    Examples\n",
      "    --------\n",
      "    >>> from io import StringIO   # StringIO behaves like a file object\n",
      "    >>> c = StringIO(\"0 1\\n2 3\")\n",
      "    >>> np.loadtxt(c)\n",
      "    array([[ 0.,  1.],\n",
      "           [ 2.,  3.]])\n",
      "    \n",
      "    >>> d = StringIO(\"M 21 72\\nF 35 58\")\n",
      "    >>> np.loadtxt(d, dtype={'names': ('gender', 'age', 'weight'),\n",
      "    ...                      'formats': ('S1', 'i4', 'f4')})\n",
      "    array([('M', 21, 72.0), ('F', 35, 58.0)],\n",
      "          dtype=[('gender', '|S1'), ('age', '<i4'), ('weight', '<f4')])\n",
      "    \n",
      "    >>> c = StringIO(\"1,0,2\\n3,0,4\")\n",
      "    >>> x, y = np.loadtxt(c, delimiter=',', usecols=(0, 2), unpack=True)\n",
      "    >>> x\n",
      "    array([ 1.,  3.])\n",
      "    >>> y\n",
      "    array([ 2.,  4.])\n",
      "\n"
     ]
    }
   ],
   "source": [
    "help(np.loadtxt)"
   ]
  },
  {
   "cell_type": "code",
   "execution_count": 11,
   "metadata": {},
   "outputs": [
    {
     "name": "stdout",
     "output_type": "stream",
     "text": [
      "c = array([ 336.1 ,  339.32,  345.03,  344.32,  343.44,  346.5 ,  351.88,\n",
      "        355.2 ,  358.16,  354.54,  356.85,  359.18,  359.9 ,  363.13,\n",
      "        358.3 ,  350.56,  338.61,  342.62,  342.88,  348.16,  353.21,\n",
      "        349.31,  352.12,  359.56,  360.  ,  355.36,  355.76,  352.47,\n",
      "        346.67,  351.99]) \n",
      " v = array([ 21144800.,  13473000.,  15236800.,   9242600.,  14064100.,\n",
      "        11494200.,  17322100.,  13608500.,  17240800.,  33162400.,\n",
      "        13127500.,  11086200.,  10149000.,  17184100.,  18949000.,\n",
      "        29144500.,  31162200.,  23994700.,  17853500.,  13572000.,\n",
      "        14395400.,  16290300.,  21521000.,  17885200.,  16188000.,\n",
      "        19504300.,  12718000.,  16192700.,  18138800.,  16824200.])\n"
     ]
    }
   ],
   "source": [
    "c, v = np.loadtxt('data.csv', delimiter=',', usecols=(6, 7), unpack=True)\n",
    "print('c = %r \\n v = %r' % (c, v))"
   ]
  },
  {
   "cell_type": "code",
   "execution_count": 12,
   "metadata": {},
   "outputs": [
    {
     "data": {
      "text/plain": [
       "array([ 336.1 ,  339.32,  345.03,  344.32,  343.44,  346.5 ,  351.88,\n",
       "        355.2 ,  358.16,  354.54,  356.85,  359.18,  359.9 ,  363.13,\n",
       "        358.3 ,  350.56,  338.61,  342.62,  342.88,  348.16,  353.21,\n",
       "        349.31,  352.12,  359.56,  360.  ,  355.36,  355.76,  352.47,\n",
       "        346.67,  351.99])"
      ]
     },
     "execution_count": 12,
     "metadata": {},
     "output_type": "execute_result"
    }
   ],
   "source": [
    "c  # 收盘价"
   ]
  },
  {
   "cell_type": "code",
   "execution_count": 13,
   "metadata": {
    "scrolled": true
   },
   "outputs": [
    {
     "data": {
      "text/plain": [
       "array([ 21144800.,  13473000.,  15236800.,   9242600.,  14064100.,\n",
       "        11494200.,  17322100.,  13608500.,  17240800.,  33162400.,\n",
       "        13127500.,  11086200.,  10149000.,  17184100.,  18949000.,\n",
       "        29144500.,  31162200.,  23994700.,  17853500.,  13572000.,\n",
       "        14395400.,  16290300.,  21521000.,  17885200.,  16188000.,\n",
       "        19504300.,  12718000.,  16192700.,  18138800.,  16824200.])"
      ]
     },
     "execution_count": 13,
     "metadata": {},
     "output_type": "execute_result"
    }
   ],
   "source": [
    "v  # 成交量"
   ]
  },
  {
   "cell_type": "code",
   "execution_count": 14,
   "metadata": {},
   "outputs": [
    {
     "data": {
      "text/plain": [
       "((350.58954935320088, 521869900.0), 521869900.0)"
      ]
     },
     "execution_count": 14,
     "metadata": {},
     "output_type": "execute_result"
    }
   ],
   "source": [
    "vwap = np.average(c, weights=v, returned=True)\n",
    "vwap, np.sum(v)"
   ]
  },
  {
   "cell_type": "code",
   "execution_count": 15,
   "metadata": {},
   "outputs": [
    {
     "name": "stdout",
     "output_type": "stream",
     "text": [
      "Help on function average in module numpy.lib.function_base:\n",
      "\n",
      "average(a, axis=None, weights=None, returned=False)\n",
      "    Compute the weighted average along the specified axis.\n",
      "    \n",
      "    Parameters\n",
      "    ----------\n",
      "    a : array_like\n",
      "        Array containing data to be averaged. If `a` is not an array, a\n",
      "        conversion is attempted.\n",
      "    axis : int, optional\n",
      "        Axis along which to average `a`. If `None`, averaging is done over\n",
      "        the flattened array.\n",
      "    weights : array_like, optional\n",
      "        An array of weights associated with the values in `a`. Each value in\n",
      "        `a` contributes to the average according to its associated weight.\n",
      "        The weights array can either be 1-D (in which case its length must be\n",
      "        the size of `a` along the given axis) or of the same shape as `a`.\n",
      "        If `weights=None`, then all data in `a` are assumed to have a\n",
      "        weight equal to one.\n",
      "    returned : bool, optional\n",
      "        Default is `False`. If `True`, the tuple (`average`, `sum_of_weights`)\n",
      "        is returned, otherwise only the average is returned.\n",
      "        If `weights=None`, `sum_of_weights` is equivalent to the number of\n",
      "        elements over which the average is taken.\n",
      "    \n",
      "    \n",
      "    Returns\n",
      "    -------\n",
      "    average, [sum_of_weights] : array_type or double\n",
      "        Return the average along the specified axis. When returned is `True`,\n",
      "        return a tuple with the average as the first element and the sum\n",
      "        of the weights as the second element. The return type is `Float`\n",
      "        if `a` is of integer type, otherwise it is of the same type as `a`.\n",
      "        `sum_of_weights` is of the same type as `average`.\n",
      "    \n",
      "    Raises\n",
      "    ------\n",
      "    ZeroDivisionError\n",
      "        When all weights along axis are zero. See `numpy.ma.average` for a\n",
      "        version robust to this type of error.\n",
      "    TypeError\n",
      "        When the length of 1D `weights` is not the same as the shape of `a`\n",
      "        along axis.\n",
      "    \n",
      "    See Also\n",
      "    --------\n",
      "    mean\n",
      "    \n",
      "    ma.average : average for masked arrays -- useful if your data contains\n",
      "                 \"missing\" values\n",
      "    \n",
      "    Examples\n",
      "    --------\n",
      "    >>> data = range(1,5)\n",
      "    >>> data\n",
      "    [1, 2, 3, 4]\n",
      "    >>> np.average(data)\n",
      "    2.5\n",
      "    >>> np.average(range(1,11), weights=range(10,0,-1))\n",
      "    4.0\n",
      "    \n",
      "    >>> data = np.arange(6).reshape((3,2))\n",
      "    >>> data\n",
      "    array([[0, 1],\n",
      "           [2, 3],\n",
      "           [4, 5]])\n",
      "    >>> np.average(data, axis=1, weights=[1./4, 3./4])\n",
      "    array([ 0.75,  2.75,  4.75])\n",
      "    >>> np.average(data, weights=[1./4, 3./4])\n",
      "    Traceback (most recent call last):\n",
      "    ...\n",
      "    TypeError: Axis must be specified when shapes of a and weights differ.\n",
      "\n"
     ]
    }
   ],
   "source": [
    "help(np.average)"
   ]
  },
  {
   "cell_type": "code",
   "execution_count": 16,
   "metadata": {},
   "outputs": [
    {
     "name": "stdout",
     "output_type": "stream",
     "text": [
      "Help on function mean in module numpy.core.fromnumeric:\n",
      "\n",
      "mean(a, axis=None, dtype=None, out=None, keepdims=<class 'numpy._globals._NoValue'>)\n",
      "    Compute the arithmetic mean along the specified axis.\n",
      "    \n",
      "    Returns the average of the array elements.  The average is taken over\n",
      "    the flattened array by default, otherwise over the specified axis.\n",
      "    `float64` intermediate and return values are used for integer inputs.\n",
      "    \n",
      "    Parameters\n",
      "    ----------\n",
      "    a : array_like\n",
      "        Array containing numbers whose mean is desired. If `a` is not an\n",
      "        array, a conversion is attempted.\n",
      "    axis : None or int or tuple of ints, optional\n",
      "        Axis or axes along which the means are computed. The default is to\n",
      "        compute the mean of the flattened array.\n",
      "    \n",
      "        .. versionadded:: 1.7.0\n",
      "    \n",
      "        If this is a tuple of ints, a mean is performed over multiple axes,\n",
      "        instead of a single axis or all the axes as before.\n",
      "    dtype : data-type, optional\n",
      "        Type to use in computing the mean.  For integer inputs, the default\n",
      "        is `float64`; for floating point inputs, it is the same as the\n",
      "        input dtype.\n",
      "    out : ndarray, optional\n",
      "        Alternate output array in which to place the result.  The default\n",
      "        is ``None``; if provided, it must have the same shape as the\n",
      "        expected output, but the type will be cast if necessary.\n",
      "        See `doc.ufuncs` for details.\n",
      "    \n",
      "    keepdims : bool, optional\n",
      "        If this is set to True, the axes which are reduced are left\n",
      "        in the result as dimensions with size one. With this option,\n",
      "        the result will broadcast correctly against the input array.\n",
      "    \n",
      "        If the default value is passed, then `keepdims` will not be\n",
      "        passed through to the `mean` method of sub-classes of\n",
      "        `ndarray`, however any non-default value will be.  If the\n",
      "        sub-classes `sum` method does not implement `keepdims` any\n",
      "        exceptions will be raised.\n",
      "    \n",
      "    Returns\n",
      "    -------\n",
      "    m : ndarray, see dtype parameter above\n",
      "        If `out=None`, returns a new array containing the mean values,\n",
      "        otherwise a reference to the output array is returned.\n",
      "    \n",
      "    See Also\n",
      "    --------\n",
      "    average : Weighted average\n",
      "    std, var, nanmean, nanstd, nanvar\n",
      "    \n",
      "    Notes\n",
      "    -----\n",
      "    The arithmetic mean is the sum of the elements along the axis divided\n",
      "    by the number of elements.\n",
      "    \n",
      "    Note that for floating-point input, the mean is computed using the\n",
      "    same precision the input has.  Depending on the input data, this can\n",
      "    cause the results to be inaccurate, especially for `float32` (see\n",
      "    example below).  Specifying a higher-precision accumulator using the\n",
      "    `dtype` keyword can alleviate this issue.\n",
      "    \n",
      "    By default, `float16` results are computed using `float32` intermediates\n",
      "    for extra precision.\n",
      "    \n",
      "    Examples\n",
      "    --------\n",
      "    >>> a = np.array([[1, 2], [3, 4]])\n",
      "    >>> np.mean(a)\n",
      "    2.5\n",
      "    >>> np.mean(a, axis=0)\n",
      "    array([ 2.,  3.])\n",
      "    >>> np.mean(a, axis=1)\n",
      "    array([ 1.5,  3.5])\n",
      "    \n",
      "    In single precision, `mean` can be inaccurate:\n",
      "    \n",
      "    >>> a = np.zeros((2, 512*512), dtype=np.float32)\n",
      "    >>> a[0, :] = 1.0\n",
      "    >>> a[1, :] = 0.1\n",
      "    >>> np.mean(a)\n",
      "    0.54999924\n",
      "    \n",
      "    Computing the mean in float64 is more accurate:\n",
      "    \n",
      "    >>> np.mean(a, dtype=np.float64)\n",
      "    0.55000000074505806\n",
      "\n"
     ]
    }
   ],
   "source": [
    "help(np.mean)"
   ]
  },
  {
   "cell_type": "code",
   "execution_count": 17,
   "metadata": {},
   "outputs": [
    {
     "data": {
      "text/plain": [
       "30"
      ]
     },
     "execution_count": 17,
     "metadata": {},
     "output_type": "execute_result"
    }
   ],
   "source": [
    "len(c)"
   ]
  },
  {
   "cell_type": "code",
   "execution_count": 18,
   "metadata": {},
   "outputs": [
    {
     "name": "stdout",
     "output_type": "stream",
     "text": [
      "[ 0  1  2  3  4  5  6  7  8  9 10 11 12 13 14 15 16 17 18 19 20 21 22 23 24\n",
      " 25 26 27 28 29]\n"
     ]
    }
   ],
   "source": [
    "t = np.arange(len(c))\n",
    "print(t)"
   ]
  },
  {
   "cell_type": "code",
   "execution_count": 19,
   "metadata": {},
   "outputs": [
    {
     "data": {
      "text/plain": [
       "352.42832183908041"
      ]
     },
     "execution_count": 19,
     "metadata": {},
     "output_type": "execute_result"
    }
   ],
   "source": [
    "np.average(c, weights=t)"
   ]
  },
  {
   "cell_type": "code",
   "execution_count": 20,
   "metadata": {},
   "outputs": [
    {
     "data": {
      "text/plain": [
       "(350.58954935320088, 521869900.0)"
      ]
     },
     "execution_count": 20,
     "metadata": {},
     "output_type": "execute_result"
    }
   ],
   "source": [
    "vwap"
   ]
  },
  {
   "cell_type": "code",
   "execution_count": 21,
   "metadata": {},
   "outputs": [
    {
     "name": "stdout",
     "output_type": "stream",
     "text": [
      "h = array([ 344.4 ,  340.04,  345.65,  345.25,  344.24,  346.7 ,  353.25,\n",
      "        355.52,  359.  ,  360.  ,  357.8 ,  359.48,  359.97,  364.9 ,\n",
      "        360.27,  359.5 ,  345.4 ,  344.64,  345.15,  348.43,  355.05,\n",
      "        355.72,  354.35,  359.79,  360.29,  361.67,  357.4 ,  354.76,\n",
      "        349.77,  352.32]) \n",
      " l = array([ 333.53,  334.3 ,  340.98,  343.55,  338.55,  343.51,  347.64,\n",
      "        352.15,  354.87,  348.  ,  353.54,  356.71,  357.55,  360.5 ,\n",
      "        356.52,  349.52,  337.72,  338.61,  338.37,  344.8 ,  351.12,\n",
      "        347.68,  348.4 ,  355.92,  357.75,  351.31,  352.25,  350.6 ,\n",
      "        344.9 ,  345.  ])\n"
     ]
    }
   ],
   "source": [
    "h, l = np.loadtxt('data.csv', delimiter=',', usecols=(4, 5), unpack=True)\n",
    "print('h = %r \\n l = %r' % (h, l))"
   ]
  },
  {
   "cell_type": "code",
   "execution_count": 22,
   "metadata": {},
   "outputs": [
    {
     "data": {
      "text/plain": [
       "364.89999999999998"
      ]
     },
     "execution_count": 22,
     "metadata": {},
     "output_type": "execute_result"
    }
   ],
   "source": [
    "np.max(h)"
   ]
  },
  {
   "cell_type": "code",
   "execution_count": 23,
   "metadata": {},
   "outputs": [
    {
     "data": {
      "text/plain": [
       "333.52999999999997"
      ]
     },
     "execution_count": 23,
     "metadata": {},
     "output_type": "execute_result"
    }
   ],
   "source": [
    "np.min(l)"
   ]
  },
  {
   "cell_type": "code",
   "execution_count": 24,
   "metadata": {},
   "outputs": [
    {
     "name": "stdout",
     "output_type": "stream",
     "text": [
      "Help on function amax in module numpy.core.fromnumeric:\n",
      "\n",
      "amax(a, axis=None, out=None, keepdims=<class 'numpy._globals._NoValue'>)\n",
      "    Return the maximum of an array or maximum along an axis.\n",
      "    \n",
      "    Parameters\n",
      "    ----------\n",
      "    a : array_like\n",
      "        Input data.\n",
      "    axis : None or int or tuple of ints, optional\n",
      "        Axis or axes along which to operate.  By default, flattened input is\n",
      "        used.\n",
      "    \n",
      "        .. versionadded:: 1.7.0\n",
      "    \n",
      "        If this is a tuple of ints, the maximum is selected over multiple axes,\n",
      "        instead of a single axis or all the axes as before.\n",
      "    out : ndarray, optional\n",
      "        Alternative output array in which to place the result.  Must\n",
      "        be of the same shape and buffer length as the expected output.\n",
      "        See `doc.ufuncs` (Section \"Output arguments\") for more details.\n",
      "    \n",
      "    keepdims : bool, optional\n",
      "        If this is set to True, the axes which are reduced are left\n",
      "        in the result as dimensions with size one. With this option,\n",
      "        the result will broadcast correctly against the input array.\n",
      "    \n",
      "        If the default value is passed, then `keepdims` will not be\n",
      "        passed through to the `amax` method of sub-classes of\n",
      "        `ndarray`, however any non-default value will be.  If the\n",
      "        sub-classes `sum` method does not implement `keepdims` any\n",
      "        exceptions will be raised.\n",
      "    \n",
      "    Returns\n",
      "    -------\n",
      "    amax : ndarray or scalar\n",
      "        Maximum of `a`. If `axis` is None, the result is a scalar value.\n",
      "        If `axis` is given, the result is an array of dimension\n",
      "        ``a.ndim - 1``.\n",
      "    \n",
      "    See Also\n",
      "    --------\n",
      "    amin :\n",
      "        The minimum value of an array along a given axis, propagating any NaNs.\n",
      "    nanmax :\n",
      "        The maximum value of an array along a given axis, ignoring any NaNs.\n",
      "    maximum :\n",
      "        Element-wise maximum of two arrays, propagating any NaNs.\n",
      "    fmax :\n",
      "        Element-wise maximum of two arrays, ignoring any NaNs.\n",
      "    argmax :\n",
      "        Return the indices of the maximum values.\n",
      "    \n",
      "    nanmin, minimum, fmin\n",
      "    \n",
      "    Notes\n",
      "    -----\n",
      "    NaN values are propagated, that is if at least one item is NaN, the\n",
      "    corresponding max value will be NaN as well. To ignore NaN values\n",
      "    (MATLAB behavior), please use nanmax.\n",
      "    \n",
      "    Don't use `amax` for element-wise comparison of 2 arrays; when\n",
      "    ``a.shape[0]`` is 2, ``maximum(a[0], a[1])`` is faster than\n",
      "    ``amax(a, axis=0)``.\n",
      "    \n",
      "    Examples\n",
      "    --------\n",
      "    >>> a = np.arange(4).reshape((2,2))\n",
      "    >>> a\n",
      "    array([[0, 1],\n",
      "           [2, 3]])\n",
      "    >>> np.amax(a)           # Maximum of the flattened array\n",
      "    3\n",
      "    >>> np.amax(a, axis=0)   # Maxima along the first axis\n",
      "    array([2, 3])\n",
      "    >>> np.amax(a, axis=1)   # Maxima along the second axis\n",
      "    array([1, 3])\n",
      "    \n",
      "    >>> b = np.arange(5, dtype=np.float)\n",
      "    >>> b[2] = np.NaN\n",
      "    >>> np.amax(b)\n",
      "    nan\n",
      "    >>> np.nanmax(b)\n",
      "    4.0\n",
      "\n"
     ]
    }
   ],
   "source": [
    "help(np.max)"
   ]
  },
  {
   "cell_type": "code",
   "execution_count": 25,
   "metadata": {},
   "outputs": [
    {
     "data": {
      "text/plain": [
       "24.859999999999957"
      ]
     },
     "execution_count": 25,
     "metadata": {},
     "output_type": "execute_result"
    }
   ],
   "source": [
    "np.ptp(h)"
   ]
  },
  {
   "cell_type": "code",
   "execution_count": 26,
   "metadata": {},
   "outputs": [
    {
     "name": "stdout",
     "output_type": "stream",
     "text": [
      "Help on function ptp in module numpy.core.fromnumeric:\n",
      "\n",
      "ptp(a, axis=None, out=None)\n",
      "    Range of values (maximum - minimum) along an axis.\n",
      "    \n",
      "    The name of the function comes from the acronym for 'peak to peak'.\n",
      "    \n",
      "    Parameters\n",
      "    ----------\n",
      "    a : array_like\n",
      "        Input values.\n",
      "    axis : int, optional\n",
      "        Axis along which to find the peaks.  By default, flatten the\n",
      "        array.\n",
      "    out : array_like\n",
      "        Alternative output array in which to place the result. It must\n",
      "        have the same shape and buffer length as the expected output,\n",
      "        but the type of the output values will be cast if necessary.\n",
      "    \n",
      "    Returns\n",
      "    -------\n",
      "    ptp : ndarray\n",
      "        A new array holding the result, unless `out` was\n",
      "        specified, in which case a reference to `out` is returned.\n",
      "    \n",
      "    Examples\n",
      "    --------\n",
      "    >>> x = np.arange(4).reshape((2,2))\n",
      "    >>> x\n",
      "    array([[0, 1],\n",
      "           [2, 3]])\n",
      "    \n",
      "    >>> np.ptp(x, axis=0)\n",
      "    array([2, 2])\n",
      "    \n",
      "    >>> np.ptp(x, axis=1)\n",
      "    array([1, 1])\n",
      "\n"
     ]
    }
   ],
   "source": [
    "help(np.ptp)"
   ]
  },
  {
   "cell_type": "code",
   "execution_count": 27,
   "metadata": {},
   "outputs": [
    {
     "data": {
      "text/plain": [
       "array([[ 344.4 ,  340.04,  345.65,  345.25,  344.24,  346.7 ,  353.25,\n",
       "         355.52,  359.  ,  360.  ,  357.8 ,  359.48,  359.97,  364.9 ,\n",
       "         360.27,  359.5 ,  345.4 ,  344.64,  345.15,  348.43,  355.05,\n",
       "         355.72,  354.35,  359.79,  360.29,  361.67,  357.4 ,  354.76,\n",
       "         349.77,  352.32]])"
      ]
     },
     "execution_count": 27,
     "metadata": {},
     "output_type": "execute_result"
    }
   ],
   "source": [
    "h.reshape(1, 30)"
   ]
  },
  {
   "cell_type": "code",
   "execution_count": 28,
   "metadata": {
    "collapsed": true
   },
   "outputs": [],
   "source": [
    "c = np.loadtxt('data.csv', delimiter=',', usecols=(6, ), unpack=True)"
   ]
  },
  {
   "cell_type": "code",
   "execution_count": 29,
   "metadata": {
    "scrolled": true
   },
   "outputs": [
    {
     "data": {
      "text/plain": [
       "array([ 336.1 ,  339.32,  345.03,  344.32,  343.44,  346.5 ,  351.88,\n",
       "        355.2 ,  358.16,  354.54,  356.85,  359.18,  359.9 ,  363.13,\n",
       "        358.3 ,  350.56,  338.61,  342.62,  342.88,  348.16,  353.21,\n",
       "        349.31,  352.12,  359.56,  360.  ,  355.36,  355.76,  352.47,\n",
       "        346.67,  351.99])"
      ]
     },
     "execution_count": 29,
     "metadata": {},
     "output_type": "execute_result"
    }
   ],
   "source": [
    "c"
   ]
  },
  {
   "cell_type": "code",
   "execution_count": 31,
   "metadata": {},
   "outputs": [
    {
     "name": "stdout",
     "output_type": "stream",
     "text": [
      "c = array([ 339.32,  336.1 ,  345.03,  344.32,  343.44,  346.5 ,  351.88,\n",
      "        346.67,  349.31,  348.16,  342.88,  342.62,  338.61,  350.56,\n",
      "        351.99,  352.12,  359.9 ,  359.18,  356.85,  354.54,  353.21,\n",
      "        358.16,  358.3 ,  359.56,  360.  ,  355.36,  355.76,  352.47,\n",
      "        355.2 ,  363.13]) \n",
      " median = 352.05500000000001\n"
     ]
    }
   ],
   "source": [
    "m = np.median(c, axis=0, overwrite_input=True)\n",
    "print ('c = %r \\n median = %r' % (c, m))"
   ]
  },
  {
   "cell_type": "code",
   "execution_count": 34,
   "metadata": {
    "scrolled": true
   },
   "outputs": [
    {
     "data": {
      "text/plain": [
       "array([ 336.1 ,  338.61,  339.32,  342.62,  342.88,  343.44,  344.32,\n",
       "        345.03,  346.5 ,  346.67,  348.16,  349.31,  350.56,  351.88,\n",
       "        351.99,  352.12,  352.47,  353.21,  354.54,  355.2 ,  355.36,\n",
       "        355.76,  356.85,  358.16,  358.3 ,  359.18,  359.56,  359.9 ,\n",
       "        360.  ,  363.13])"
      ]
     },
     "execution_count": 34,
     "metadata": {},
     "output_type": "execute_result"
    }
   ],
   "source": [
    "np.msort(c)"
   ]
  },
  {
   "cell_type": "code",
   "execution_count": 35,
   "metadata": {},
   "outputs": [
    {
     "data": {
      "text/plain": [
       "array([ 339.32,  336.1 ,  345.03,  344.32,  343.44,  346.5 ,  351.88,\n",
       "        346.67,  349.31,  348.16,  342.88,  342.62,  338.61,  350.56,\n",
       "        351.99,  352.12,  359.9 ,  359.18,  356.85,  354.54,  353.21,\n",
       "        358.16,  358.3 ,  359.56,  360.  ,  355.36,  355.76,  352.47,\n",
       "        355.2 ,  363.13])"
      ]
     },
     "execution_count": 35,
     "metadata": {},
     "output_type": "execute_result"
    }
   ],
   "source": [
    "c "
   ]
  },
  {
   "cell_type": "code",
   "execution_count": 37,
   "metadata": {},
   "outputs": [
    {
     "data": {
      "text/plain": [
       "50.126517888888884"
      ]
     },
     "execution_count": 37,
     "metadata": {},
     "output_type": "execute_result"
    }
   ],
   "source": [
    "np.var(c)"
   ]
  },
  {
   "cell_type": "code",
   "execution_count": 39,
   "metadata": {},
   "outputs": [
    {
     "data": {
      "text/plain": [
       "array([ 339.32,  336.1 ,  345.03,  344.32,  343.44,  346.5 ,  351.88,\n",
       "        346.67,  349.31,  348.16,  342.88,  342.62,  338.61,  350.56,\n",
       "        351.99,  352.12,  359.9 ,  359.18,  356.85,  354.54,  353.21,\n",
       "        358.16,  358.3 ,  359.56,  360.  ,  355.36,  355.76,  352.47,\n",
       "        355.2 ,  363.13])"
      ]
     },
     "execution_count": 39,
     "metadata": {},
     "output_type": "execute_result"
    }
   ],
   "source": [
    "c"
   ]
  },
  {
   "cell_type": "code",
   "execution_count": 40,
   "metadata": {},
   "outputs": [
    {
     "name": "stdout",
     "output_type": "stream",
     "text": [
      "Help on function diff in module numpy.lib.function_base:\n",
      "\n",
      "diff(a, n=1, axis=-1)\n",
      "    Calculate the n-th discrete difference along given axis.\n",
      "    \n",
      "    The first difference is given by ``out[n] = a[n+1] - a[n]`` along\n",
      "    the given axis, higher differences are calculated by using `diff`\n",
      "    recursively.\n",
      "    \n",
      "    Parameters\n",
      "    ----------\n",
      "    a : array_like\n",
      "        Input array\n",
      "    n : int, optional\n",
      "        The number of times values are differenced.\n",
      "    axis : int, optional\n",
      "        The axis along which the difference is taken, default is the last axis.\n",
      "    \n",
      "    Returns\n",
      "    -------\n",
      "    diff : ndarray\n",
      "        The n-th differences. The shape of the output is the same as `a`\n",
      "        except along `axis` where the dimension is smaller by `n`.\n",
      "    \n",
      "    See Also\n",
      "    --------\n",
      "    gradient, ediff1d, cumsum\n",
      "    \n",
      "    Examples\n",
      "    --------\n",
      "    >>> x = np.array([1, 2, 4, 7, 0])\n",
      "    >>> np.diff(x)\n",
      "    array([ 1,  2,  3, -7])\n",
      "    >>> np.diff(x, n=2)\n",
      "    array([  1,   1, -10])\n",
      "    \n",
      "    >>> x = np.array([[1, 3, 6, 10], [0, 5, 6, 8]])\n",
      "    >>> np.diff(x)\n",
      "    array([[2, 3, 4],\n",
      "           [5, 1, 2]])\n",
      "    >>> np.diff(x, axis=0)\n",
      "    array([[-1,  2,  0, -2]])\n",
      "\n"
     ]
    }
   ],
   "source": [
    "help(np.diff)"
   ]
  },
  {
   "cell_type": "code",
   "execution_count": 45,
   "metadata": {},
   "outputs": [
    {
     "data": {
      "text/plain": [
       "array([-0.00948957,  0.02656947, -0.00205779, -0.00255576,  0.00890985,\n",
       "        0.0155267 , -0.01480618,  0.00761531, -0.0032922 , -0.01516544,\n",
       "       -0.00075828, -0.01170393,  0.03529134,  0.00407919,  0.00036933,\n",
       "        0.02209474, -0.00200056, -0.006487  , -0.00647331, -0.00375134,\n",
       "        0.01401433,  0.00039089,  0.00351661,  0.00122372, -0.01288889,\n",
       "        0.00112562, -0.00924781,  0.00774534,  0.02232545])"
      ]
     },
     "execution_count": 45,
     "metadata": {},
     "output_type": "execute_result"
    }
   ],
   "source": [
    "returns = np.diff(c) / c[ : -1]\n",
    "returns"
   ]
  },
  {
   "cell_type": "code",
   "execution_count": 46,
   "metadata": {},
   "outputs": [
    {
     "name": "stdout",
     "output_type": "stream",
     "text": [
      "Standard deviation =  0.0124395299496\n"
     ]
    }
   ],
   "source": [
    "print('Standard deviation = ', np.std(returns))"
   ]
  },
  {
   "cell_type": "code",
   "execution_count": 66,
   "metadata": {},
   "outputs": [
    {
     "data": {
      "text/plain": [
       "array([-0.00953488,  0.02622264, -0.00205991, -0.00255903,  0.00887039,\n",
       "        0.01540739, -0.01491689,  0.00758646, -0.00329764, -0.01528161,\n",
       "       -0.00075857, -0.01177296,  0.03468287,  0.00407089,  0.00036926,\n",
       "        0.02185419, -0.00200256, -0.00650813, -0.00649435, -0.00375839,\n",
       "        0.01391703,  0.00039081,  0.00351044,  0.00122297, -0.01297267,\n",
       "        0.00112499, -0.00929083,  0.0077155 ,  0.02207989])"
      ]
     },
     "execution_count": 66,
     "metadata": {},
     "output_type": "execute_result"
    }
   ],
   "source": [
    "logreturns = np.diff( np.log(c) )\n",
    "logreturns"
   ]
  },
  {
   "cell_type": "code",
   "execution_count": 74,
   "metadata": {},
   "outputs": [
    {
     "data": {
      "text/plain": [
       "array([False,  True, False, False,  True,  True, False,  True, False,\n",
       "       False, False, False,  True,  True,  True,  True, False, False,\n",
       "       False, False,  True,  True,  True,  True, False,  True, False,\n",
       "        True,  True], dtype=bool)"
      ]
     },
     "execution_count": 74,
     "metadata": {},
     "output_type": "execute_result"
    }
   ],
   "source": [
    "returns > 0"
   ]
  },
  {
   "cell_type": "code",
   "execution_count": 71,
   "metadata": {},
   "outputs": [
    {
     "name": "stdout",
     "output_type": "stream",
     "text": [
      "Help on built-in function where in module numpy.core.multiarray:\n",
      "\n",
      "where(...)\n",
      "    where(condition, [x, y])\n",
      "    \n",
      "    Return elements, either from `x` or `y`, depending on `condition`.\n",
      "    \n",
      "    If only `condition` is given, return ``condition.nonzero()``.\n",
      "    \n",
      "    Parameters\n",
      "    ----------\n",
      "    condition : array_like, bool\n",
      "        When True, yield `x`, otherwise yield `y`.\n",
      "    x, y : array_like, optional\n",
      "        Values from which to choose. `x` and `y` need to have the same\n",
      "        shape as `condition`.\n",
      "    \n",
      "    Returns\n",
      "    -------\n",
      "    out : ndarray or tuple of ndarrays\n",
      "        If both `x` and `y` are specified, the output array contains\n",
      "        elements of `x` where `condition` is True, and elements from\n",
      "        `y` elsewhere.\n",
      "    \n",
      "        If only `condition` is given, return the tuple\n",
      "        ``condition.nonzero()``, the indices where `condition` is True.\n",
      "    \n",
      "    See Also\n",
      "    --------\n",
      "    nonzero, choose\n",
      "    \n",
      "    Notes\n",
      "    -----\n",
      "    If `x` and `y` are given and input arrays are 1-D, `where` is\n",
      "    equivalent to::\n",
      "    \n",
      "        [xv if c else yv for (c,xv,yv) in zip(condition,x,y)]\n",
      "    \n",
      "    Examples\n",
      "    --------\n",
      "    >>> np.where([[True, False], [True, True]],\n",
      "    ...          [[1, 2], [3, 4]],\n",
      "    ...          [[9, 8], [7, 6]])\n",
      "    array([[1, 8],\n",
      "           [3, 4]])\n",
      "    \n",
      "    >>> np.where([[0, 1], [1, 0]])\n",
      "    (array([0, 1]), array([1, 0]))\n",
      "    \n",
      "    >>> x = np.arange(9.).reshape(3, 3)\n",
      "    >>> np.where( x > 5 )\n",
      "    (array([2, 2, 2]), array([0, 1, 2]))\n",
      "    >>> x[np.where( x > 3.0 )]               # Note: result is 1D.\n",
      "    array([ 4.,  5.,  6.,  7.,  8.])\n",
      "    >>> np.where(x < 5, x, -1)               # Note: broadcasting.\n",
      "    array([[ 0.,  1.,  2.],\n",
      "           [ 3.,  4., -1.],\n",
      "           [-1., -1., -1.]])\n",
      "    \n",
      "    Find the indices of elements of `x` that are in `goodvalues`.\n",
      "    \n",
      "    >>> goodvalues = [3, 4, 7]\n",
      "    >>> ix = np.in1d(x.ravel(), goodvalues).reshape(x.shape)\n",
      "    >>> ix\n",
      "    array([[False, False, False],\n",
      "           [ True,  True, False],\n",
      "           [False,  True, False]], dtype=bool)\n",
      "    >>> np.where(ix)\n",
      "    (array([1, 1, 2]), array([0, 1, 1]))\n",
      "\n"
     ]
    }
   ],
   "source": [
    "help(np.where)"
   ]
  },
  {
   "cell_type": "code",
   "execution_count": 81,
   "metadata": {},
   "outputs": [
    {
     "data": {
      "text/plain": [
       "array([ 0,  3,  6,  9, 12])"
      ]
     },
     "execution_count": 81,
     "metadata": {},
     "output_type": "execute_result"
    }
   ],
   "source": [
    "arr1 = np.arange(5) * 2\n",
    "arr2 = np.arange(5) * 3\n",
    "np.where([False], arr1, arr2)"
   ]
  },
  {
   "cell_type": "code",
   "execution_count": 83,
   "metadata": {},
   "outputs": [
    {
     "name": "stdout",
     "output_type": "stream",
     "text": [
      "83.8137811829\n"
     ]
    }
   ],
   "source": [
    "annual_velatility = np.std(logreturns) / np.mean(logreturns) / np.sqrt(1./252.)\n",
    "print(annual_velatility)"
   ]
  },
  {
   "cell_type": "code",
   "execution_count": 89,
   "metadata": {
    "collapsed": true
   },
   "outputs": [],
   "source": [
    "from datetime import datetime\n",
    "\n",
    "def datestr2num(s):\n",
    "    return datetime.strptime(s.decode(), '%d-%m-%Y').weekday()"
   ]
  },
  {
   "cell_type": "code",
   "execution_count": 90,
   "metadata": {
    "collapsed": true
   },
   "outputs": [],
   "source": [
    "dates, close = np.loadtxt('data.csv', delimiter=',', usecols=(1,6), converters={1: datestr2num}, unpack=True)"
   ]
  },
  {
   "cell_type": "code",
   "execution_count": 92,
   "metadata": {},
   "outputs": [
    {
     "data": {
      "text/plain": [
       "array([ 4.,  0.,  1.,  2.,  3.,  4.,  0.,  1.,  2.,  3.,  4.,  0.,  1.,\n",
       "        2.,  3.,  4.,  1.,  2.,  3.,  4.,  0.,  1.,  2.,  3.,  4.,  0.,\n",
       "        1.,  2.,  3.,  4.])"
      ]
     },
     "execution_count": 92,
     "metadata": {},
     "output_type": "execute_result"
    }
   ],
   "source": [
    "dates"
   ]
  },
  {
   "cell_type": "code",
   "execution_count": 93,
   "metadata": {
    "collapsed": true
   },
   "outputs": [],
   "source": [
    "averages = np.zeros(5)"
   ]
  },
  {
   "cell_type": "code",
   "execution_count": 96,
   "metadata": {},
   "outputs": [
    {
     "name": "stdout",
     "output_type": "stream",
     "text": [
      "Day 0 prices [[ 339.32  351.88  359.18  353.21  355.36]] avg 351.79\n",
      "Day 1 prices [[ 345.03  355.2   359.9   338.61  349.31  355.76]] avg 350.635\n",
      "Day 2 prices [[ 344.32  358.16  363.13  342.62  352.12  352.47]] avg 352.136666667\n",
      "Day 3 prices [[ 343.44  354.54  358.3   342.88  359.56  346.67]] avg 350.898333333\n",
      "Day 4 prices [[ 336.1   346.5   356.85  350.56  348.16  360.    351.99]] avg 350.022857143\n"
     ]
    }
   ],
   "source": [
    "for i in range(5):\n",
    "    indices = np.where(dates == i)\n",
    "    prices = np.take(close, indices)\n",
    "    avg = np.mean(prices)\n",
    "    print('Day', i, 'prices', prices, 'avg', avg)\n",
    "    averages[i] = avg"
   ]
  },
  {
   "cell_type": "code",
   "execution_count": 112,
   "metadata": {},
   "outputs": [
    {
     "name": "stdout",
     "output_type": "stream",
     "text": [
      "Highest average 352.136666667\n",
      "Top day of the week 2\n",
      "Lowest average 350.022857143\n",
      "Bottom day of the week 4\n"
     ]
    }
   ],
   "source": [
    "top = np.max(averages)\n",
    "print('Highest average', top)\n",
    "print('Top day of the week', np.argmax(averages))\n",
    "bottom = np.min(averages)\n",
    "print('Lowest average', bottom)\n",
    "print('Bottom day of the week', np.argmin(averages))"
   ]
  },
  {
   "cell_type": "code",
   "execution_count": 113,
   "metadata": {},
   "outputs": [
    {
     "name": "stdout",
     "output_type": "stream",
     "text": [
      "Help on function argmax in module numpy.core.fromnumeric:\n",
      "\n",
      "argmax(a, axis=None, out=None)\n",
      "    Returns the indices of the maximum values along an axis.\n",
      "    \n",
      "    Parameters\n",
      "    ----------\n",
      "    a : array_like\n",
      "        Input array.\n",
      "    axis : int, optional\n",
      "        By default, the index is into the flattened array, otherwise\n",
      "        along the specified axis.\n",
      "    out : array, optional\n",
      "        If provided, the result will be inserted into this array. It should\n",
      "        be of the appropriate shape and dtype.\n",
      "    \n",
      "    Returns\n",
      "    -------\n",
      "    index_array : ndarray of ints\n",
      "        Array of indices into the array. It has the same shape as `a.shape`\n",
      "        with the dimension along `axis` removed.\n",
      "    \n",
      "    See Also\n",
      "    --------\n",
      "    ndarray.argmax, argmin\n",
      "    amax : The maximum value along a given axis.\n",
      "    unravel_index : Convert a flat index into an index tuple.\n",
      "    \n",
      "    Notes\n",
      "    -----\n",
      "    In case of multiple occurrences of the maximum values, the indices\n",
      "    corresponding to the first occurrence are returned.\n",
      "    \n",
      "    Examples\n",
      "    --------\n",
      "    >>> a = np.arange(6).reshape(2,3)\n",
      "    >>> a\n",
      "    array([[0, 1, 2],\n",
      "           [3, 4, 5]])\n",
      "    >>> np.argmax(a)\n",
      "    5\n",
      "    >>> np.argmax(a, axis=0)\n",
      "    array([1, 1, 1])\n",
      "    >>> np.argmax(a, axis=1)\n",
      "    array([2, 2])\n",
      "    \n",
      "    >>> b = np.arange(6)\n",
      "    >>> b[1] = 5\n",
      "    >>> b\n",
      "    array([0, 5, 2, 3, 4, 5])\n",
      "    >>> np.argmax(b) # Only the first occurrence is returned.\n",
      "    1\n",
      "\n"
     ]
    }
   ],
   "source": [
    "help(np.argmax)"
   ]
  },
  {
   "cell_type": "code",
   "execution_count": 115,
   "metadata": {},
   "outputs": [
    {
     "name": "stdout",
     "output_type": "stream",
     "text": [
      "Help on built-in function argmax:\n",
      "\n",
      "argmax(...) method of numpy.ndarray instance\n",
      "    a.argmax(axis=None, out=None)\n",
      "    \n",
      "    Return indices of the maximum values along the given axis.\n",
      "    \n",
      "    Refer to `numpy.argmax` for full documentation.\n",
      "    \n",
      "    See Also\n",
      "    --------\n",
      "    numpy.argmax : equivalent function\n",
      "\n"
     ]
    }
   ],
   "source": [
    "help(averages.argmax)"
   ]
  },
  {
   "cell_type": "code",
   "execution_count": 116,
   "metadata": {},
   "outputs": [
    {
     "name": "stdout",
     "output_type": "stream",
     "text": [
      "Dates = [ 4.  0.  1.  2.  3.  4.  0.  1.  2.  3.  4.  0.  1.  2.  3.  4.  1.  2.\n",
      "  3.  4.  0.  1.  2.  3.  4.  0.  1.  2.  3.  4.]\n",
      "Day 0 prices [[ 339.32  351.88  359.18  353.21  355.36]] Average 351.79\n",
      "Day 1 prices [[ 345.03  355.2   359.9   338.61  349.31  355.76]] Average 350.635\n",
      "Day 2 prices [[ 344.32  358.16  363.13  342.62  352.12  352.47]] Average 352.136666667\n",
      "Day 3 prices [[ 343.44  354.54  358.3   342.88  359.56  346.67]] Average 350.898333333\n",
      "Day 4 prices [[ 336.1   346.5   356.85  350.56  348.16  360.    351.99]] Average 350.022857143\n",
      "Highest average 352.136666667\n",
      "Top day of the week 2\n",
      "Lowest average 350.022857143\n",
      "Bottom day of the week 4\n"
     ]
    }
   ],
   "source": [
    "import numpy as np\n",
    "from datetime import datetime\n",
    "\n",
    "def datestr2num(b):\n",
    "    return datetime.strptime(b.decode(), '%d-%m-%Y').date().weekday()\n",
    "\n",
    "dates, close = np.loadtxt('data.csv', delimiter=',', usecols=(1, 6), converters={1: datestr2num}, unpack=True)\n",
    "print('Dates =', dates)\n",
    "\n",
    "averages = np.zeros(5)\n",
    "\n",
    "for i in range(5):\n",
    "    indices = np.where(dates == i)\n",
    "    prices = np.take(close, indices)\n",
    "    avg = np.mean(prices)\n",
    "    print('Day', i, 'prices', prices, 'Average', avg)\n",
    "    averages[i] = avg\n",
    "\n",
    "top = np.max(averages)\n",
    "print('Highest average', top)\n",
    "print('Top day of the week', np.argmax(averages))\n",
    "\n",
    "bottom = np.min(averages)\n",
    "print('Lowest average', bottom)\n",
    "print('Bottom day of the week', np.argmin(averages))"
   ]
  },
  {
   "cell_type": "code",
   "execution_count": 117,
   "metadata": {},
   "outputs": [
    {
     "name": "stdout",
     "output_type": "stream",
     "text": [
      "AAPL,28-01-2011, ,344.17,344.4,333.53,336.1,21144800\n",
      "AAPL,31-01-2011, ,335.8,340.04,334.3,339.32,13473000\n",
      "AAPL,01-02-2011, ,341.3,345.65,340.98,345.03,15236800\n",
      "AAPL,02-02-2011, ,344.45,345.25,343.55,344.32,9242600\n",
      "AAPL,03-02-2011, ,343.8,344.24,338.55,343.44,14064100\n",
      "AAPL,04-02-2011, ,343.61,346.7,343.51,346.5,11494200\n",
      "AAPL,07-02-2011, ,347.89,353.25,347.64,351.88,17322100\n",
      "AAPL,08-02-2011, ,353.68,355.52,352.15,355.2,13608500\n",
      "AAPL,09-02-2011, ,355.19,359,354.87,358.16,17240800\n",
      "AAPL,10-02-2011, ,357.39,360,348,354.54,33162400\n",
      "AAPL,11-02-2011, ,354.75,357.8,353.54,356.85,13127500\n",
      "AAPL,14-02-2011, ,356.79,359.48,356.71,359.18,11086200\n",
      "AAPL,15-02-2011, ,359.19,359.97,357.55,359.9,10149000\n",
      "AAPL,16-02-2011, ,360.8,364.9,360.5,363.13,17184100\n",
      "AAPL,17-02-2011, ,357.1,360.27,356.52,358.3,18949000\n",
      "AAPL,18-02-2011, ,358.21,359.5,349.52,350.56,29144500\n",
      "AAPL,22-02-2011, ,342.05,345.4,337.72,338.61,31162200\n",
      "AAPL,23-02-2011, ,338.77,344.64,338.61,342.62,23994700\n",
      "AAPL,24-02-2011, ,344.02,345.15,338.37,342.88,17853500\n",
      "AAPL,25-02-2011, ,345.29,348.43,344.8,348.16,13572000\n",
      "AAPL,28-02-2011, ,351.21,355.05,351.12,353.21,14395400\n",
      "AAPL,01-03-2011, ,355.47,355.72,347.68,349.31,16290300\n",
      "AAPL,02-03-2011, ,349.96,354.35,348.4,352.12,21521000\n",
      "AAPL,03-03-2011, ,357.2,359.79,355.92,359.56,17885200\n",
      "AAPL,04-03-2011, ,360.07,360.29,357.75,360,16188000\n",
      "AAPL,07-03-2011, ,361.11,361.67,351.31,355.36,19504300\n",
      "AAPL,08-03-2011, ,354.91,357.4,352.25,355.76,12718000\n",
      "AAPL,09-03-2011, ,354.69,354.76,350.6,352.47,16192700\n",
      "AAPL,10-03-2011, ,349.69,349.77,344.9,346.67,18138800\n",
      "AAPL,11-03-2011, ,345.4,352.32,345,351.99,16824200\n"
     ]
    }
   ],
   "source": [
    "!more data.csv"
   ]
  },
  {
   "cell_type": "code",
   "execution_count": 118,
   "metadata": {
    "collapsed": true
   },
   "outputs": [],
   "source": [
    "close = close[:16]\n",
    "dates = dates[:16]"
   ]
  },
  {
   "cell_type": "code",
   "execution_count": 119,
   "metadata": {},
   "outputs": [
    {
     "data": {
      "text/plain": [
       "array([ 336.1 ,  339.32,  345.03,  344.32,  343.44,  346.5 ,  351.88,\n",
       "        355.2 ,  358.16,  354.54,  356.85,  359.18,  359.9 ,  363.13,\n",
       "        358.3 ,  350.56])"
      ]
     },
     "execution_count": 119,
     "metadata": {},
     "output_type": "execute_result"
    }
   ],
   "source": [
    "close"
   ]
  },
  {
   "cell_type": "code",
   "execution_count": 130,
   "metadata": {},
   "outputs": [
    {
     "name": "stdout",
     "output_type": "stream",
     "text": [
      "The first Monday index is 1\n"
     ]
    }
   ],
   "source": [
    "first_monday = np.ravel(np.where(dates == 0))[0]\n",
    "print('The first Monday index is', first_monday)"
   ]
  },
  {
   "cell_type": "code",
   "execution_count": 134,
   "metadata": {},
   "outputs": [
    {
     "name": "stdout",
     "output_type": "stream",
     "text": [
      "The last Friday index is 15\n"
     ]
    }
   ],
   "source": [
    "last_friday = np.ravel(np.where(dates == 4))[-1]\n",
    "print('The last Friday index is', last_friday)"
   ]
  },
  {
   "cell_type": "code",
   "execution_count": 140,
   "metadata": {},
   "outputs": [
    {
     "name": "stdout",
     "output_type": "stream",
     "text": [
      "Weeks indices initial [ 1  2  3  4  5  6  7  8  9 10 11 12 13 14 15]\n"
     ]
    }
   ],
   "source": [
    "weeks_indices = np.arange(first_monday, last_friday + 1)\n",
    "print('Weeks indices initial', weeks_indices)"
   ]
  },
  {
   "cell_type": "code",
   "execution_count": 141,
   "metadata": {},
   "outputs": [
    {
     "name": "stdout",
     "output_type": "stream",
     "text": [
      "Week indices after split [array([1, 2, 3, 4, 5], dtype=int64), array([ 6,  7,  8,  9, 10], dtype=int64), array([11, 12, 13, 14, 15], dtype=int64)]\n"
     ]
    }
   ],
   "source": [
    "weeks_indices = np.split(weeks_indices, 3)\n",
    "print('Week indices after split', weeks_indices)"
   ]
  },
  {
   "cell_type": "code",
   "execution_count": 144,
   "metadata": {
    "collapsed": true
   },
   "outputs": [],
   "source": [
    "def summarize(a, o, h, l, c):\n",
    "    monday_open = o[a[0]]\n",
    "    week_high = np.max(np.take(h, a))\n",
    "    week_low = np.min(np.take(l, a))\n",
    "    friday_close = c[a[-1]]\n",
    "    return ('APPL', monday_open, week_high, week_low, friday_close)\n"
   ]
  },
  {
   "cell_type": "code",
   "execution_count": null,
   "metadata": {
    "collapsed": true
   },
   "outputs": [],
   "source": [
    "weeksummary = np.apply_along_axis(summarize, 1, weeks_indices, open, high, low, close)"
   ]
  },
  {
   "cell_type": "code",
   "execution_count": 147,
   "metadata": {
    "collapsed": true
   },
   "outputs": [],
   "source": [
    "!start ."
   ]
  },
  {
   "cell_type": "code",
   "execution_count": 149,
   "metadata": {},
   "outputs": [
    {
     "name": "stdout",
     "output_type": "stream",
     "text": [
      "The first Monday index is 1\n",
      "The last Friday index is 15\n",
      "Weeks indices initial [ 1  2  3  4  5  6  7  8  9 10 11 12 13 14 15]\n",
      "Weeks indices after split [array([1, 2, 3, 4, 5], dtype=int64), array([ 6,  7,  8,  9, 10], dtype=int64), array([11, 12, 13, 14, 15], dtype=int64)]\n",
      "Week summary [['APPL' '335.8' '346.7' '334.3' '346.5']\n",
      " ['APPL' '347.8' '360.0' '347.6' '356.8']\n",
      " ['APPL' '356.7' '364.9' '349.5' '350.5']]\n"
     ]
    }
   ],
   "source": [
    "import numpy as np\n",
    "from datetime import datetime\n",
    "\n",
    "# Monday 0\n",
    "# Tuesday 1\n",
    "# Wednesday 2\n",
    "# Thursday 3\n",
    "# Friday 4\n",
    "# Saturday 5\n",
    "# Sunday 6\n",
    "def datestr2num(s):\n",
    "   return datetime.strptime(s.decode(), \"%d-%m-%Y\").date().weekday()\n",
    "\n",
    "dates, open, high, low, close = np.loadtxt('data.csv', delimiter=',', usecols=(1, 3, 4, 5, 6), converters={1: datestr2num}, unpack=True)\n",
    "close = close[:16]\n",
    "dates = dates[:16]\n",
    "\n",
    "# get first Monday\n",
    "first_monday = np.ravel(np.where(dates == 0))[0]\n",
    "print(\"The first Monday index is\", first_monday)\n",
    "\n",
    "# get last Friday\n",
    "last_friday = np.ravel(np.where(dates == 4))[-1]\n",
    "print(\"The last Friday index is\", last_friday)\n",
    "\n",
    "weeks_indices = np.arange(first_monday, last_friday + 1)\n",
    "print(\"Weeks indices initial\", weeks_indices)\n",
    "\n",
    "weeks_indices = np.split(weeks_indices, 3)\n",
    "print(\"Weeks indices after split\", weeks_indices)\n",
    "\n",
    "def summarize(a, o, h, l, c):\n",
    "    monday_open = o[a[0]]\n",
    "    week_high = np.max( np.take(h, a) )\n",
    "    week_low = np.min( np.take(l, a) )\n",
    "    friday_close = c[a[-1]]\n",
    "\n",
    "    return(\"APPL\", monday_open, week_high, week_low, friday_close)\n",
    "\n",
    "weeksummary = np.apply_along_axis(summarize, 1, weeks_indices, open, high, low, close)\n",
    "print(\"Week summary\", weeksummary)\n",
    "\n",
    "np.savetxt(\"weeksummary.csv\", weeksummary, delimiter=\",\", fmt=\"%s\")\n"
   ]
  },
  {
   "cell_type": "code",
   "execution_count": 158,
   "metadata": {
    "collapsed": true
   },
   "outputs": [],
   "source": [
    "\n",
    "b = np.apply_along_axis(summarize, 1, weeks_indices, open, high, low, close)"
   ]
  },
  {
   "cell_type": "code",
   "execution_count": 159,
   "metadata": {
    "collapsed": true
   },
   "outputs": [],
   "source": [
    "\n",
    "a = []\n",
    "a = [summarize(x, open, high, low, close) for x in weeks_indices]"
   ]
  },
  {
   "cell_type": "code",
   "execution_count": 163,
   "metadata": {},
   "outputs": [
    {
     "name": "stdout",
     "output_type": "stream",
     "text": [
      "[1 2 3 4 5]\n",
      "[ 6  7  8  9 10]\n",
      "[11 12 13 14 15]\n"
     ]
    }
   ],
   "source": [
    "for x in weeks_indices:\n",
    "    print(x)"
   ]
  },
  {
   "cell_type": "code",
   "execution_count": 161,
   "metadata": {},
   "outputs": [
    {
     "data": {
      "text/plain": [
       "[('APPL', 335.80000000000001, 346.69999999999999, 334.30000000000001, 346.5),\n",
       " ('APPL', 347.88999999999999, 360.0, 347.63999999999999, 356.85000000000002),\n",
       " ('APPL', 356.79000000000002, 364.89999999999998, 349.51999999999998, 350.56)]"
      ]
     },
     "execution_count": 161,
     "metadata": {},
     "output_type": "execute_result"
    }
   ],
   "source": [
    "a"
   ]
  },
  {
   "cell_type": "code",
   "execution_count": 162,
   "metadata": {},
   "outputs": [
    {
     "data": {
      "text/plain": [
       "array([['APPL', '335.8', '346.7', '334.3', '346.5'],\n",
       "       ['APPL', '347.8', '360.0', '347.6', '356.8'],\n",
       "       ['APPL', '356.7', '364.9', '349.5', '350.5']], \n",
       "      dtype='<U5')"
      ]
     },
     "execution_count": 162,
     "metadata": {},
     "output_type": "execute_result"
    }
   ],
   "source": [
    "b"
   ]
  },
  {
   "cell_type": "code",
   "execution_count": 164,
   "metadata": {},
   "outputs": [
    {
     "name": "stdout",
     "output_type": "stream",
     "text": [
      "Help on ufunc object:\n",
      "\n",
      "maximum = class ufunc(builtins.object)\n",
      " |  Functions that operate element by element on whole arrays.\n",
      " |  \n",
      " |  To see the documentation for a specific ufunc, use np.info().  For\n",
      " |  example, np.info(np.sin).  Because ufuncs are written in C\n",
      " |  (for speed) and linked into Python with NumPy's ufunc facility,\n",
      " |  Python's help() function finds this page whenever help() is called\n",
      " |  on a ufunc.\n",
      " |  \n",
      " |  A detailed explanation of ufuncs can be found in the \"ufuncs.rst\"\n",
      " |  file in the NumPy reference guide.\n",
      " |  \n",
      " |  Unary ufuncs:\n",
      " |  =============\n",
      " |  \n",
      " |  op(X, out=None)\n",
      " |  Apply op to X elementwise\n",
      " |  \n",
      " |  Parameters\n",
      " |  ----------\n",
      " |  X : array_like\n",
      " |      Input array.\n",
      " |  out : array_like\n",
      " |      An array to store the output. Must be the same shape as `X`.\n",
      " |  \n",
      " |  Returns\n",
      " |  -------\n",
      " |  r : array_like\n",
      " |      `r` will have the same shape as `X`; if out is provided, `r`\n",
      " |      will be equal to out.\n",
      " |  \n",
      " |  Binary ufuncs:\n",
      " |  ==============\n",
      " |  \n",
      " |  op(X, Y, out=None)\n",
      " |  Apply `op` to `X` and `Y` elementwise. May \"broadcast\" to make\n",
      " |  the shapes of `X` and `Y` congruent.\n",
      " |  \n",
      " |  The broadcasting rules are:\n",
      " |  \n",
      " |  * Dimensions of length 1 may be prepended to either array.\n",
      " |  * Arrays may be repeated along dimensions of length 1.\n",
      " |  \n",
      " |  Parameters\n",
      " |  ----------\n",
      " |  X : array_like\n",
      " |      First input array.\n",
      " |  Y : array_like\n",
      " |      Second input array.\n",
      " |  out : array_like\n",
      " |      An array to store the output. Must be the same shape as the\n",
      " |      output would have.\n",
      " |  \n",
      " |  Returns\n",
      " |  -------\n",
      " |  r : array_like\n",
      " |      The return value; if out is provided, `r` will be equal to out.\n",
      " |  \n",
      " |  Methods defined here:\n",
      " |  \n",
      " |  __call__(self, /, *args, **kwargs)\n",
      " |      Call self as a function.\n",
      " |  \n",
      " |  __repr__(self, /)\n",
      " |      Return repr(self).\n",
      " |  \n",
      " |  __str__(self, /)\n",
      " |      Return str(self).\n",
      " |  \n",
      " |  accumulate(...)\n",
      " |      accumulate(array, axis=0, dtype=None, out=None, keepdims=None)\n",
      " |      \n",
      " |      Accumulate the result of applying the operator to all elements.\n",
      " |      \n",
      " |      For a one-dimensional array, accumulate produces results equivalent to::\n",
      " |      \n",
      " |        r = np.empty(len(A))\n",
      " |        t = op.identity        # op = the ufunc being applied to A's  elements\n",
      " |        for i in range(len(A)):\n",
      " |            t = op(t, A[i])\n",
      " |            r[i] = t\n",
      " |        return r\n",
      " |      \n",
      " |      For example, add.accumulate() is equivalent to np.cumsum().\n",
      " |      \n",
      " |      For a multi-dimensional array, accumulate is applied along only one\n",
      " |      axis (axis zero by default; see Examples below) so repeated use is\n",
      " |      necessary if one wants to accumulate over multiple axes.\n",
      " |      \n",
      " |      Parameters\n",
      " |      ----------\n",
      " |      array : array_like\n",
      " |          The array to act on.\n",
      " |      axis : int, optional\n",
      " |          The axis along which to apply the accumulation; default is zero.\n",
      " |      dtype : data-type code, optional\n",
      " |          The data-type used to represent the intermediate results. Defaults\n",
      " |          to the data-type of the output array if such is provided, or the\n",
      " |          the data-type of the input array if no output array is provided.\n",
      " |      out : ndarray, optional\n",
      " |          A location into which the result is stored. If not provided a\n",
      " |          freshly-allocated array is returned.\n",
      " |      keepdims : bool\n",
      " |          Has no effect. Deprecated, and will be removed in future.\n",
      " |      \n",
      " |      Returns\n",
      " |      -------\n",
      " |      r : ndarray\n",
      " |          The accumulated values. If `out` was supplied, `r` is a reference to\n",
      " |          `out`.\n",
      " |      \n",
      " |      Examples\n",
      " |      --------\n",
      " |      1-D array examples:\n",
      " |      \n",
      " |      >>> np.add.accumulate([2, 3, 5])\n",
      " |      array([ 2,  5, 10])\n",
      " |      >>> np.multiply.accumulate([2, 3, 5])\n",
      " |      array([ 2,  6, 30])\n",
      " |      \n",
      " |      2-D array examples:\n",
      " |      \n",
      " |      >>> I = np.eye(2)\n",
      " |      >>> I\n",
      " |      array([[ 1.,  0.],\n",
      " |             [ 0.,  1.]])\n",
      " |      \n",
      " |      Accumulate along axis 0 (rows), down columns:\n",
      " |      \n",
      " |      >>> np.add.accumulate(I, 0)\n",
      " |      array([[ 1.,  0.],\n",
      " |             [ 1.,  1.]])\n",
      " |      >>> np.add.accumulate(I) # no axis specified = axis zero\n",
      " |      array([[ 1.,  0.],\n",
      " |             [ 1.,  1.]])\n",
      " |      \n",
      " |      Accumulate along axis 1 (columns), through rows:\n",
      " |      \n",
      " |      >>> np.add.accumulate(I, 1)\n",
      " |      array([[ 1.,  1.],\n",
      " |             [ 0.,  1.]])\n",
      " |  \n",
      " |  at(...)\n",
      " |      at(a, indices, b=None)\n",
      " |      \n",
      " |      Performs unbuffered in place operation on operand 'a' for elements\n",
      " |      specified by 'indices'. For addition ufunc, this method is equivalent to\n",
      " |      `a[indices] += b`, except that results are accumulated for elements that\n",
      " |      are indexed more than once. For example, `a[[0,0]] += 1` will only\n",
      " |      increment the first element once because of buffering, whereas\n",
      " |      `add.at(a, [0,0], 1)` will increment the first element twice.\n",
      " |      \n",
      " |      .. versionadded:: 1.8.0\n",
      " |      \n",
      " |      Parameters\n",
      " |      ----------\n",
      " |      a : array_like\n",
      " |          The array to perform in place operation on.\n",
      " |      indices : array_like or tuple\n",
      " |          Array like index object or slice object for indexing into first\n",
      " |          operand. If first operand has multiple dimensions, indices can be a\n",
      " |          tuple of array like index objects or slice objects.\n",
      " |      b : array_like\n",
      " |          Second operand for ufuncs requiring two operands. Operand must be\n",
      " |          broadcastable over first operand after indexing or slicing.\n",
      " |      \n",
      " |      Examples\n",
      " |      --------\n",
      " |      Set items 0 and 1 to their negative values:\n",
      " |      \n",
      " |      >>> a = np.array([1, 2, 3, 4])\n",
      " |      >>> np.negative.at(a, [0, 1])\n",
      " |      >>> print(a)\n",
      " |      array([-1, -2, 3, 4])\n",
      " |      \n",
      " |      ::\n",
      " |      \n",
      " |      Increment items 0 and 1, and increment item 2 twice:\n",
      " |      \n",
      " |      >>> a = np.array([1, 2, 3, 4])\n",
      " |      >>> np.add.at(a, [0, 1, 2, 2], 1)\n",
      " |      >>> print(a)\n",
      " |      array([2, 3, 5, 4])\n",
      " |      \n",
      " |      ::\n",
      " |      \n",
      " |      Add items 0 and 1 in first array to second array,\n",
      " |      and store results in first array:\n",
      " |      \n",
      " |      >>> a = np.array([1, 2, 3, 4])\n",
      " |      >>> b = np.array([1, 2])\n",
      " |      >>> np.add.at(a, [0, 1], b)\n",
      " |      >>> print(a)\n",
      " |      array([2, 4, 3, 4])\n",
      " |  \n",
      " |  outer(...)\n",
      " |      outer(A, B, **kwargs)\n",
      " |      \n",
      " |      Apply the ufunc `op` to all pairs (a, b) with a in `A` and b in `B`.\n",
      " |      \n",
      " |      Let ``M = A.ndim``, ``N = B.ndim``. Then the result, `C`, of\n",
      " |      ``op.outer(A, B)`` is an array of dimension M + N such that:\n",
      " |      \n",
      " |      .. math:: C[i_0, ..., i_{M-1}, j_0, ..., j_{N-1}] =\n",
      " |         op(A[i_0, ..., i_{M-1}], B[j_0, ..., j_{N-1}])\n",
      " |      \n",
      " |      For `A` and `B` one-dimensional, this is equivalent to::\n",
      " |      \n",
      " |        r = empty(len(A),len(B))\n",
      " |        for i in range(len(A)):\n",
      " |            for j in range(len(B)):\n",
      " |                r[i,j] = op(A[i], B[j]) # op = ufunc in question\n",
      " |      \n",
      " |      Parameters\n",
      " |      ----------\n",
      " |      A : array_like\n",
      " |          First array\n",
      " |      B : array_like\n",
      " |          Second array\n",
      " |      kwargs : any\n",
      " |          Arguments to pass on to the ufunc. Typically `dtype` or `out`.\n",
      " |      \n",
      " |      Returns\n",
      " |      -------\n",
      " |      r : ndarray\n",
      " |          Output array\n",
      " |      \n",
      " |      See Also\n",
      " |      --------\n",
      " |      numpy.outer\n",
      " |      \n",
      " |      Examples\n",
      " |      --------\n",
      " |      >>> np.multiply.outer([1, 2, 3], [4, 5, 6])\n",
      " |      array([[ 4,  5,  6],\n",
      " |             [ 8, 10, 12],\n",
      " |             [12, 15, 18]])\n",
      " |      \n",
      " |      A multi-dimensional example:\n",
      " |      \n",
      " |      >>> A = np.array([[1, 2, 3], [4, 5, 6]])\n",
      " |      >>> A.shape\n",
      " |      (2, 3)\n",
      " |      >>> B = np.array([[1, 2, 3, 4]])\n",
      " |      >>> B.shape\n",
      " |      (1, 4)\n",
      " |      >>> C = np.multiply.outer(A, B)\n",
      " |      >>> C.shape; C\n",
      " |      (2, 3, 1, 4)\n",
      " |      array([[[[ 1,  2,  3,  4]],\n",
      " |              [[ 2,  4,  6,  8]],\n",
      " |              [[ 3,  6,  9, 12]]],\n",
      " |             [[[ 4,  8, 12, 16]],\n",
      " |              [[ 5, 10, 15, 20]],\n",
      " |              [[ 6, 12, 18, 24]]]])\n",
      " |  \n",
      " |  reduce(...)\n",
      " |      reduce(a, axis=0, dtype=None, out=None, keepdims=False)\n",
      " |      \n",
      " |      Reduces `a`'s dimension by one, by applying ufunc along one axis.\n",
      " |      \n",
      " |      Let :math:`a.shape = (N_0, ..., N_i, ..., N_{M-1})`.  Then\n",
      " |      :math:`ufunc.reduce(a, axis=i)[k_0, ..,k_{i-1}, k_{i+1}, .., k_{M-1}]` =\n",
      " |      the result of iterating `j` over :math:`range(N_i)`, cumulatively applying\n",
      " |      ufunc to each :math:`a[k_0, ..,k_{i-1}, j, k_{i+1}, .., k_{M-1}]`.\n",
      " |      For a one-dimensional array, reduce produces results equivalent to:\n",
      " |      ::\n",
      " |      \n",
      " |       r = op.identity # op = ufunc\n",
      " |       for i in range(len(A)):\n",
      " |         r = op(r, A[i])\n",
      " |       return r\n",
      " |      \n",
      " |      For example, add.reduce() is equivalent to sum().\n",
      " |      \n",
      " |      Parameters\n",
      " |      ----------\n",
      " |      a : array_like\n",
      " |          The array to act on.\n",
      " |      axis : None or int or tuple of ints, optional\n",
      " |          Axis or axes along which a reduction is performed.\n",
      " |          The default (`axis` = 0) is perform a reduction over the first\n",
      " |          dimension of the input array. `axis` may be negative, in\n",
      " |          which case it counts from the last to the first axis.\n",
      " |      \n",
      " |          .. versionadded:: 1.7.0\n",
      " |      \n",
      " |          If this is `None`, a reduction is performed over all the axes.\n",
      " |          If this is a tuple of ints, a reduction is performed on multiple\n",
      " |          axes, instead of a single axis or all the axes as before.\n",
      " |      \n",
      " |          For operations which are either not commutative or not associative,\n",
      " |          doing a reduction over multiple axes is not well-defined. The\n",
      " |          ufuncs do not currently raise an exception in this case, but will\n",
      " |          likely do so in the future.\n",
      " |      dtype : data-type code, optional\n",
      " |          The type used to represent the intermediate results. Defaults\n",
      " |          to the data-type of the output array if this is provided, or\n",
      " |          the data-type of the input array if no output array is provided.\n",
      " |      out : ndarray, optional\n",
      " |          A location into which the result is stored. If not provided, a\n",
      " |          freshly-allocated array is returned.\n",
      " |      keepdims : bool, optional\n",
      " |          If this is set to True, the axes which are reduced are left\n",
      " |          in the result as dimensions with size one. With this option,\n",
      " |          the result will broadcast correctly against the original `arr`.\n",
      " |      \n",
      " |          .. versionadded:: 1.7.0\n",
      " |      \n",
      " |      Returns\n",
      " |      -------\n",
      " |      r : ndarray\n",
      " |          The reduced array. If `out` was supplied, `r` is a reference to it.\n",
      " |      \n",
      " |      Examples\n",
      " |      --------\n",
      " |      >>> np.multiply.reduce([2,3,5])\n",
      " |      30\n",
      " |      \n",
      " |      A multi-dimensional array example:\n",
      " |      \n",
      " |      >>> X = np.arange(8).reshape((2,2,2))\n",
      " |      >>> X\n",
      " |      array([[[0, 1],\n",
      " |              [2, 3]],\n",
      " |             [[4, 5],\n",
      " |              [6, 7]]])\n",
      " |      >>> np.add.reduce(X, 0)\n",
      " |      array([[ 4,  6],\n",
      " |             [ 8, 10]])\n",
      " |      >>> np.add.reduce(X) # confirm: default axis value is 0\n",
      " |      array([[ 4,  6],\n",
      " |             [ 8, 10]])\n",
      " |      >>> np.add.reduce(X, 1)\n",
      " |      array([[ 2,  4],\n",
      " |             [10, 12]])\n",
      " |      >>> np.add.reduce(X, 2)\n",
      " |      array([[ 1,  5],\n",
      " |             [ 9, 13]])\n",
      " |  \n",
      " |  reduceat(...)\n",
      " |      reduceat(a, indices, axis=0, dtype=None, out=None)\n",
      " |      \n",
      " |      Performs a (local) reduce with specified slices over a single axis.\n",
      " |      \n",
      " |      For i in ``range(len(indices))``, `reduceat` computes\n",
      " |      ``ufunc.reduce(a[indices[i]:indices[i+1]])``, which becomes the i-th\n",
      " |      generalized \"row\" parallel to `axis` in the final result (i.e., in a\n",
      " |      2-D array, for example, if `axis = 0`, it becomes the i-th row, but if\n",
      " |      `axis = 1`, it becomes the i-th column).  There are three exceptions to this:\n",
      " |      \n",
      " |      * when ``i = len(indices) - 1`` (so for the last index),\n",
      " |        ``indices[i+1] = a.shape[axis]``.\n",
      " |      * if ``indices[i] >= indices[i + 1]``, the i-th generalized \"row\" is\n",
      " |        simply ``a[indices[i]]``.\n",
      " |      * if ``indices[i] >= len(a)`` or ``indices[i] < 0``, an error is raised.\n",
      " |      \n",
      " |      The shape of the output depends on the size of `indices`, and may be\n",
      " |      larger than `a` (this happens if ``len(indices) > a.shape[axis]``).\n",
      " |      \n",
      " |      Parameters\n",
      " |      ----------\n",
      " |      a : array_like\n",
      " |          The array to act on.\n",
      " |      indices : array_like\n",
      " |          Paired indices, comma separated (not colon), specifying slices to\n",
      " |          reduce.\n",
      " |      axis : int, optional\n",
      " |          The axis along which to apply the reduceat.\n",
      " |      dtype : data-type code, optional\n",
      " |          The type used to represent the intermediate results. Defaults\n",
      " |          to the data type of the output array if this is provided, or\n",
      " |          the data type of the input array if no output array is provided.\n",
      " |      out : ndarray, optional\n",
      " |          A location into which the result is stored. If not provided a\n",
      " |          freshly-allocated array is returned.\n",
      " |      \n",
      " |      Returns\n",
      " |      -------\n",
      " |      r : ndarray\n",
      " |          The reduced values. If `out` was supplied, `r` is a reference to\n",
      " |          `out`.\n",
      " |      \n",
      " |      Notes\n",
      " |      -----\n",
      " |      A descriptive example:\n",
      " |      \n",
      " |      If `a` is 1-D, the function `ufunc.accumulate(a)` is the same as\n",
      " |      ``ufunc.reduceat(a, indices)[::2]`` where `indices` is\n",
      " |      ``range(len(array) - 1)`` with a zero placed\n",
      " |      in every other element:\n",
      " |      ``indices = zeros(2 * len(a) - 1)``, ``indices[1::2] = range(1, len(a))``.\n",
      " |      \n",
      " |      Don't be fooled by this attribute's name: `reduceat(a)` is not\n",
      " |      necessarily smaller than `a`.\n",
      " |      \n",
      " |      Examples\n",
      " |      --------\n",
      " |      To take the running sum of four successive values:\n",
      " |      \n",
      " |      >>> np.add.reduceat(np.arange(8),[0,4, 1,5, 2,6, 3,7])[::2]\n",
      " |      array([ 6, 10, 14, 18])\n",
      " |      \n",
      " |      A 2-D example:\n",
      " |      \n",
      " |      >>> x = np.linspace(0, 15, 16).reshape(4,4)\n",
      " |      >>> x\n",
      " |      array([[  0.,   1.,   2.,   3.],\n",
      " |             [  4.,   5.,   6.,   7.],\n",
      " |             [  8.,   9.,  10.,  11.],\n",
      " |             [ 12.,  13.,  14.,  15.]])\n",
      " |      \n",
      " |      ::\n",
      " |      \n",
      " |       # reduce such that the result has the following five rows:\n",
      " |       # [row1 + row2 + row3]\n",
      " |       # [row4]\n",
      " |       # [row2]\n",
      " |       # [row3]\n",
      " |       # [row1 + row2 + row3 + row4]\n",
      " |      \n",
      " |      >>> np.add.reduceat(x, [0, 3, 1, 2, 0])\n",
      " |      array([[ 12.,  15.,  18.,  21.],\n",
      " |             [ 12.,  13.,  14.,  15.],\n",
      " |             [  4.,   5.,   6.,   7.],\n",
      " |             [  8.,   9.,  10.,  11.],\n",
      " |             [ 24.,  28.,  32.,  36.]])\n",
      " |      \n",
      " |      ::\n",
      " |      \n",
      " |       # reduce such that result has the following two columns:\n",
      " |       # [col1 * col2 * col3, col4]\n",
      " |      \n",
      " |      >>> np.multiply.reduceat(x, [0, 3], 1)\n",
      " |      array([[    0.,     3.],\n",
      " |             [  120.,     7.],\n",
      " |             [  720.,    11.],\n",
      " |             [ 2184.,    15.]])\n",
      " |  \n",
      " |  ----------------------------------------------------------------------\n",
      " |  Data descriptors defined here:\n",
      " |  \n",
      " |  identity\n",
      " |      The identity value.\n",
      " |      \n",
      " |      Data attribute containing the identity element for the ufunc, if it has one.\n",
      " |      If it does not, the attribute value is None.\n",
      " |      \n",
      " |      Examples\n",
      " |      --------\n",
      " |      >>> np.add.identity\n",
      " |      0\n",
      " |      >>> np.multiply.identity\n",
      " |      1\n",
      " |      >>> np.power.identity\n",
      " |      1\n",
      " |      >>> print(np.exp.identity)\n",
      " |      None\n",
      " |  \n",
      " |  nargs\n",
      " |      The number of arguments.\n",
      " |      \n",
      " |      Data attribute containing the number of arguments the ufunc takes, including\n",
      " |      optional ones.\n",
      " |      \n",
      " |      Notes\n",
      " |      -----\n",
      " |      Typically this value will be one more than what you might expect because all\n",
      " |      ufuncs take  the optional \"out\" argument.\n",
      " |      \n",
      " |      Examples\n",
      " |      --------\n",
      " |      >>> np.add.nargs\n",
      " |      3\n",
      " |      >>> np.multiply.nargs\n",
      " |      3\n",
      " |      >>> np.power.nargs\n",
      " |      3\n",
      " |      >>> np.exp.nargs\n",
      " |      2\n",
      " |  \n",
      " |  nin\n",
      " |      The number of inputs.\n",
      " |      \n",
      " |      Data attribute containing the number of arguments the ufunc treats as input.\n",
      " |      \n",
      " |      Examples\n",
      " |      --------\n",
      " |      >>> np.add.nin\n",
      " |      2\n",
      " |      >>> np.multiply.nin\n",
      " |      2\n",
      " |      >>> np.power.nin\n",
      " |      2\n",
      " |      >>> np.exp.nin\n",
      " |      1\n",
      " |  \n",
      " |  nout\n",
      " |      The number of outputs.\n",
      " |      \n",
      " |      Data attribute containing the number of arguments the ufunc treats as output.\n",
      " |      \n",
      " |      Notes\n",
      " |      -----\n",
      " |      Since all ufuncs can take output arguments, this will always be (at least) 1.\n",
      " |      \n",
      " |      Examples\n",
      " |      --------\n",
      " |      >>> np.add.nout\n",
      " |      1\n",
      " |      >>> np.multiply.nout\n",
      " |      1\n",
      " |      >>> np.power.nout\n",
      " |      1\n",
      " |      >>> np.exp.nout\n",
      " |      1\n",
      " |  \n",
      " |  ntypes\n",
      " |      The number of types.\n",
      " |      \n",
      " |      The number of numerical NumPy types - of which there are 18 total - on which\n",
      " |      the ufunc can operate.\n",
      " |      \n",
      " |      See Also\n",
      " |      --------\n",
      " |      numpy.ufunc.types\n",
      " |      \n",
      " |      Examples\n",
      " |      --------\n",
      " |      >>> np.add.ntypes\n",
      " |      18\n",
      " |      >>> np.multiply.ntypes\n",
      " |      18\n",
      " |      >>> np.power.ntypes\n",
      " |      17\n",
      " |      >>> np.exp.ntypes\n",
      " |      7\n",
      " |      >>> np.remainder.ntypes\n",
      " |      14\n",
      " |  \n",
      " |  signature\n",
      " |  \n",
      " |  types\n",
      " |      Returns a list with types grouped input->output.\n",
      " |      \n",
      " |      Data attribute listing the data-type \"Domain-Range\" groupings the ufunc can\n",
      " |      deliver. The data-types are given using the character codes.\n",
      " |      \n",
      " |      See Also\n",
      " |      --------\n",
      " |      numpy.ufunc.ntypes\n",
      " |      \n",
      " |      Examples\n",
      " |      --------\n",
      " |      >>> np.add.types\n",
      " |      ['??->?', 'bb->b', 'BB->B', 'hh->h', 'HH->H', 'ii->i', 'II->I', 'll->l',\n",
      " |      'LL->L', 'qq->q', 'QQ->Q', 'ff->f', 'dd->d', 'gg->g', 'FF->F', 'DD->D',\n",
      " |      'GG->G', 'OO->O']\n",
      " |      \n",
      " |      >>> np.multiply.types\n",
      " |      ['??->?', 'bb->b', 'BB->B', 'hh->h', 'HH->H', 'ii->i', 'II->I', 'll->l',\n",
      " |      'LL->L', 'qq->q', 'QQ->Q', 'ff->f', 'dd->d', 'gg->g', 'FF->F', 'DD->D',\n",
      " |      'GG->G', 'OO->O']\n",
      " |      \n",
      " |      >>> np.power.types\n",
      " |      ['bb->b', 'BB->B', 'hh->h', 'HH->H', 'ii->i', 'II->I', 'll->l', 'LL->L',\n",
      " |      'qq->q', 'QQ->Q', 'ff->f', 'dd->d', 'gg->g', 'FF->F', 'DD->D', 'GG->G',\n",
      " |      'OO->O']\n",
      " |      \n",
      " |      >>> np.exp.types\n",
      " |      ['f->f', 'd->d', 'g->g', 'F->F', 'D->D', 'G->G', 'O->O']\n",
      " |      \n",
      " |      >>> np.remainder.types\n",
      " |      ['bb->b', 'BB->B', 'hh->h', 'HH->H', 'ii->i', 'II->I', 'll->l', 'LL->L',\n",
      " |      'qq->q', 'QQ->Q', 'ff->f', 'dd->d', 'gg->g', 'OO->O']\n",
      "\n"
     ]
    }
   ],
   "source": [
    "help(np.maximum)"
   ]
  },
  {
   "cell_type": "code",
   "execution_count": 165,
   "metadata": {},
   "outputs": [
    {
     "name": "stdout",
     "output_type": "stream",
     "text": [
      "maximum(x1, x2[, out])\n",
      "\n",
      "Element-wise maximum of array elements.\n",
      "\n",
      "Compare two arrays and returns a new array containing the element-wise\n",
      "maxima. If one of the elements being compared is a NaN, then that\n",
      "element is returned. If both elements are NaNs then the first is\n",
      "returned. The latter distinction is important for complex NaNs, which\n",
      "are defined as at least one of the real or imaginary parts being a NaN.\n",
      "The net effect is that NaNs are propagated.\n",
      "\n",
      "Parameters\n",
      "----------\n",
      "x1, x2 : array_like\n",
      "    The arrays holding the elements to be compared. They must have\n",
      "    the same shape, or shapes that can be broadcast to a single shape.\n",
      "\n",
      "Returns\n",
      "-------\n",
      "y : ndarray or scalar\n",
      "    The maximum of `x1` and `x2`, element-wise.  Returns scalar if\n",
      "    both  `x1` and `x2` are scalars.\n",
      "\n",
      "See Also\n",
      "--------\n",
      "minimum :\n",
      "    Element-wise minimum of two arrays, propagates NaNs.\n",
      "fmax :\n",
      "    Element-wise maximum of two arrays, ignores NaNs.\n",
      "amax :\n",
      "    The maximum value of an array along a given axis, propagates NaNs.\n",
      "nanmax :\n",
      "    The maximum value of an array along a given axis, ignores NaNs.\n",
      "\n",
      "fmin, amin, nanmin\n",
      "\n",
      "Notes\n",
      "-----\n",
      "The maximum is equivalent to ``np.where(x1 >= x2, x1, x2)`` when\n",
      "neither x1 nor x2 are nans, but it is faster and does proper\n",
      "broadcasting.\n",
      "\n",
      "Examples\n",
      "--------\n",
      ">>> np.maximum([2, 3, 4], [1, 5, 2])\n",
      "array([2, 5, 4])\n",
      "\n",
      ">>> np.maximum(np.eye(2), [0.5, 2]) # broadcasting\n",
      "array([[ 1. ,  2. ],\n",
      "       [ 0.5,  2. ]])\n",
      "\n",
      ">>> np.maximum([np.nan, 0, np.nan], [0, np.nan, np.nan])\n",
      "array([ NaN,  NaN,  NaN])\n",
      ">>> np.maximum(np.Inf, 1)\n",
      "inf\n"
     ]
    }
   ],
   "source": [
    "np.info(np.maximum)"
   ]
  },
  {
   "cell_type": "code",
   "execution_count": null,
   "metadata": {
    "collapsed": true
   },
   "outputs": [],
   "source": []
  }
 ],
 "metadata": {
  "kernelspec": {
   "display_name": "Python 3",
   "language": "python",
   "name": "python3"
  },
  "language_info": {
   "codemirror_mode": {
    "name": "ipython",
    "version": 3
   },
   "file_extension": ".py",
   "mimetype": "text/x-python",
   "name": "python",
   "nbconvert_exporter": "python",
   "pygments_lexer": "ipython3",
   "version": "3.6.0"
  }
 },
 "nbformat": 4,
 "nbformat_minor": 2
}
