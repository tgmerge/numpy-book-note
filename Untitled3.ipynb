{
 "cells": [
  {
   "cell_type": "code",
   "execution_count": 1,
   "metadata": {
    "collapsed": true
   },
   "outputs": [],
   "source": [
    "import numpy as np\n",
    "from matplotlib import pyplot"
   ]
  },
  {
   "cell_type": "markdown",
   "metadata": {},
   "source": [
    "Line format:\n",
    "```\n",
    " 0     1     2     3     4     5    6      7\n",
    "Code, Date, null, open, high, low, close, Amount\n",
    "```"
   ]
  },
  {
   "cell_type": "code",
   "execution_count": 2,
   "metadata": {},
   "outputs": [
    {
     "name": "stdout",
     "output_type": "stream",
     "text": [
      "BHP,11-02-2011, ,93.11,94.26,92.9,93.72,1741900\n",
      "BHP,14-02-2011, ,94.57,96.23,94.39,95.64,2620800\n",
      "BHP,15-02-2011, ,94.45,95.47,93.91,94.56,2461300\n",
      "BHP,16-02-2011, ,92.67,93.58,92.56,93.3,3270900\n",
      "BHP,17-02-2011, ,92.65,93.98,92.58,93.93,2650200\n"
     ]
    }
   ],
   "source": [
    "!cat BHP.csv | head -n5"
   ]
  },
  {
   "cell_type": "code",
   "execution_count": 3,
   "metadata": {
    "scrolled": true
   },
   "outputs": [
    {
     "name": "stdout",
     "output_type": "stream",
     "text": [
      "VALE,11-02-2011, ,33.88,34.54,33.63,34.37,18433500\n",
      "VALE,14-02-2011, ,34.53,35.29,34.52,35.13,20780700\n",
      "VALE,15-02-2011, ,34.89,35.31,34.82,35.14,17756700\n",
      "VALE,16-02-2011, ,35.16,35.4,34.81,35.31,16792800\n",
      "VALE,17-02-2011, ,35.18,35.6,35.04,35.57,24088300\n"
     ]
    }
   ],
   "source": [
    "!cat VALE.csv | head -n5"
   ]
  },
  {
   "cell_type": "code",
   "execution_count": 10,
   "metadata": {
    "scrolled": true
   },
   "outputs": [
    {
     "name": "stdout",
     "output_type": "stream",
     "text": [
      "bhp_returns [ 0.02048656 -0.01129235 -0.01332487  0.00675241 -0.01639519 -0.00303063\n",
      "  0.00271415 -0.00649632  0.02343069  0.00734746 -0.0140592   0.01243701\n",
      "  0.01683787 -0.00270777 -0.01347118 -0.0013761  -0.02247191 -0.04239861\n",
      "  0.01449439 -0.00636232 -0.0232532  -0.02380679  0.02945335  0.01350423\n",
      "  0.01163053 -0.00982252  0.01476722  0.01377472 -0.00646504]\n",
      "vale_returns [ 0.02211231  0.00028466  0.00483779  0.00736335 -0.01518133 -0.04538967\n",
      "  0.01495215  0.00795522  0.00175387 -0.0011672  -0.01373065  0.01658768\n",
      "  0.01602564 -0.01061084 -0.03681159  0.0018056  -0.01231601 -0.02950122\n",
      "  0.00814792  0.00839291 -0.01633785 -0.02726418  0.01514175  0.01999365\n",
      "  0.00871189 -0.00524368  0.01395349 -0.01039755 -0.00061805]\n",
      "Covariance [[ 0.00028179  0.00019766]\n",
      " [ 0.00019766  0.00030123]]\n"
     ]
    }
   ],
   "source": [
    "bhp = np.loadtxt('BHP.csv', delimiter=',', usecols=(6, ), unpack=True)\n",
    "bhp_returns = np.diff(bhp) / bhp[ :-1]\n",
    "print(\"bhp_returns\", bhp_returns)\n",
    "\n",
    "vale = np.loadtxt('VALE.csv', delimiter=',', usecols=(6, ), unpack=True)\n",
    "vale_returns = np.diff(vale) / vale[ :-1]\n",
    "print('vale_returns', vale_returns)\n",
    "\n",
    "covariance = np.cov(bhp_returns, vale_returns)\n",
    "print('Covariance', covariance)"
   ]
  },
  {
   "cell_type": "markdown",
   "metadata": {},
   "source": [
    "关于协方差矩阵：\n",
    "\n",
    "\n",
    "```\n",
    "covariance = | cov(x1, x1)  cov(x1, x2) |\n",
    "             | cov(x2, x1)  cov(x2, x2) |\n",
    "```\n",
    "\n",
    "其中 bhp_returns 是 x1, vale_returns 是 x2。\n",
    "\n",
    "对角线上的元素就是各个随机变量（自己）的方差。"
   ]
  },
  {
   "cell_type": "code",
   "execution_count": 13,
   "metadata": {},
   "outputs": [
    {
     "name": "stdout",
     "output_type": "stream",
     "text": [
      "Covariance diagonal [ 0.00028179  0.00030123]\n",
      "Covariance trace 0.00058302354992\n",
      "0.00058302354992\n"
     ]
    }
   ],
   "source": [
    "print(\"Covariance diagonal\", covariance.diagonal())\n",
    "print(\"Covariance trace\", covariance.trace())\n",
    "\n",
    "print(covariance[0,0] + covariance[1,1])"
   ]
  },
  {
   "cell_type": "markdown",
   "metadata": {
    "collapsed": true
   },
   "source": [
    "从协方差矩阵中“剔除”各自的标准差，就得到了相关系数矩阵。\n",
    "\n",
    "NumPy 计算协方差的时候，自由度参数默认是 1（分母是 N-1 而不是 N）；\n",
    "\n",
    "计算标准差的时候，自由度参数是 0，求得的是样本标准差而不是总体标准差的无偏估计。所以协方差不能直接用除以 bhp_returns.std() 或 vale_returns.std() 的方法计算出相关系数矩阵。"
   ]
  },
  {
   "cell_type": "code",
   "execution_count": 16,
   "metadata": {
    "scrolled": true
   },
   "outputs": [
    {
     "name": "stdout",
     "output_type": "stream",
     "text": [
      "Correlation coefficient [[ 1.          0.67841747]\n",
      " [ 0.67841747  1.        ]]\n"
     ]
    }
   ],
   "source": [
    "print(\"Correlation coefficient\", np.corrcoef(bhp_returns, vale_returns))"
   ]
  },
  {
   "cell_type": "markdown",
   "metadata": {},
   "source": [
    "np.corrcorf - [皮尔逊积矩相关系数](https://zh.wikipedia.org/wiki/%E7%9A%AE%E5%B0%94%E9%80%8A%E7%A7%AF%E7%9F%A9%E7%9B%B8%E5%85%B3%E7%B3%BB%E6%95%B0)，定义是两个变量之间协方差和标准差的商。\n",
    "\n",
    "变化范围是 [-1, 1]。\n",
    "\n",
    "上面那个的返回是\n",
    "\n",
    "\n",
    "```\n",
    "| r(x1, x1)  r(x1, x2) |\n",
    "| r(x2, x1)  r(x2, x2) |\n",
    "```"
   ]
  },
  {
   "cell_type": "code",
   "execution_count": 23,
   "metadata": {},
   "outputs": [
    {
     "name": "stdout",
     "output_type": "stream",
     "text": [
      "difference [ 59.35  60.51  59.42  57.99  58.36  57.36  58.67  58.42  57.55  59.64\n",
      "  60.37  59.51  60.11  61.15  61.26  61.24  61.05  59.34  56.4   57.42\n",
      "  56.58  55.04  53.84  55.87  56.42  57.17  56.46  57.32  58.9   58.33]\n",
      "最后一天两者的走势差距大于 2*差距的标准差:  False\n"
     ]
    }
   ],
   "source": [
    "difference = bhp - vale\n",
    "print('difference', difference)\n",
    "\n",
    "avg = np.mean(difference)  # 两者差距的平均值\n",
    "dev = np.std(difference)  # \n",
    "print('最后一天两者的走势差距大于 2*差距的标准差: ', np.abs(difference[-1] - avg) > 2 * dev)"
   ]
  },
  {
   "cell_type": "code",
   "execution_count": null,
   "metadata": {
    "collapsed": true
   },
   "outputs": [],
   "source": []
  }
 ],
 "metadata": {
  "kernelspec": {
   "display_name": "Python 3",
   "language": "python",
   "name": "python3"
  },
  "language_info": {
   "codemirror_mode": {
    "name": "ipython",
    "version": 3
   },
   "file_extension": ".py",
   "mimetype": "text/x-python",
   "name": "python",
   "nbconvert_exporter": "python",
   "pygments_lexer": "ipython3",
   "version": "3.6.0"
  }
 },
 "nbformat": 4,
 "nbformat_minor": 2
}
