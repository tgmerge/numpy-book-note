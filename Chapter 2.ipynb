{
 "cells": [
  {
   "cell_type": "markdown",
   "metadata": {},
   "source": [
    "## 2. NumPy 基础"
   ]
  },
  {
   "cell_type": "markdown",
   "metadata": {},
   "source": [
    "### 2.1 NumPy 数组对象\n",
    "\n",
    "`ndarray`: NumPy中的多维数组对象。\n",
    "\n",
    "* 由**实际数据**和**元数据**组成。\n",
    "\n",
    "* 大部分数组操作改变的是元数据。\n",
    "\n",
    "* NumPy数组一般是同质的：所有元素类型一致。\n",
    "\n",
    "使用`arange()`创建数组：\n",
    "\n",
    "> `arange()`创建一个值平均分布的数组。"
   ]
  },
  {
   "cell_type": "code",
   "execution_count": 1,
   "metadata": {
    "collapsed": false
   },
   "outputs": [],
   "source": [
    "import numpy as np\n",
    "a = np.arange(5)"
   ]
  },
  {
   "cell_type": "markdown",
   "metadata": {},
   "source": [
    "使用`dtype()`查看数组的数据类型：\n",
    "\n",
    "> `ndarray.dtype`是ndarray数组的数据类型。"
   ]
  },
  {
   "cell_type": "code",
   "execution_count": 2,
   "metadata": {
    "collapsed": false
   },
   "outputs": [
    {
     "data": {
      "text/plain": [
       "dtype('int32')"
      ]
     },
     "execution_count": 2,
     "metadata": {},
     "output_type": "execute_result"
    }
   ],
   "source": [
    "a.dtype"
   ]
  },
  {
   "cell_type": "markdown",
   "metadata": {},
   "source": [
    "使用`shape`查看数组的维度：\n",
    "\n",
    "> `ndarray.shape`是一个tuple，tuple中的元素即为这个数组在每一个维度上的大小。"
   ]
  },
  {
   "cell_type": "code",
   "execution_count": 3,
   "metadata": {
    "collapsed": false
   },
   "outputs": [
    {
     "data": {
      "text/plain": [
       "(5,)"
      ]
     },
     "execution_count": 3,
     "metadata": {},
     "output_type": "execute_result"
    }
   ],
   "source": [
    "a.shape"
   ]
  },
  {
   "cell_type": "markdown",
   "metadata": {},
   "source": [
    "### 2.2 创建多维数组\n",
    "\n",
    "#### 创建多维数组，并显示其维度：\n",
    "\n",
    "> `array()`函数根据给定的对象生成NumPy数组。给定的对象应该是“类数组”的(array-like)。Python中的list就可以。"
   ]
  },
  {
   "cell_type": "code",
   "execution_count": 4,
   "metadata": {
    "collapsed": false
   },
   "outputs": [
    {
     "data": {
      "text/plain": [
       "array([[0, 1],\n",
       "       [0, 1]])"
      ]
     },
     "execution_count": 4,
     "metadata": {},
     "output_type": "execute_result"
    }
   ],
   "source": [
    "m = np.array([np.arange(2), np.arange(2)])\n",
    "m"
   ]
  },
  {
   "cell_type": "code",
   "execution_count": 5,
   "metadata": {
    "collapsed": false
   },
   "outputs": [
    {
     "data": {
      "text/plain": [
       "(2, 2)"
      ]
     },
     "execution_count": 5,
     "metadata": {},
     "output_type": "execute_result"
    }
   ],
   "source": [
    "m.shape"
   ]
  },
  {
   "cell_type": "markdown",
   "metadata": {},
   "source": [
    "创建一个3×3多维数组："
   ]
  },
  {
   "cell_type": "code",
   "execution_count": 6,
   "metadata": {
    "collapsed": false
   },
   "outputs": [
    {
     "data": {
      "text/plain": [
       "array([[0, 1, 2],\n",
       "       [0, 1, 2],\n",
       "       [0, 1, 2]])"
      ]
     },
     "execution_count": 6,
     "metadata": {},
     "output_type": "execute_result"
    }
   ],
   "source": [
    "mat = np.array([np.arange(3), np.arange(3), np.arange(3)])\n",
    "mat"
   ]
  },
  {
   "cell_type": "code",
   "execution_count": 7,
   "metadata": {
    "collapsed": false
   },
   "outputs": [
    {
     "data": {
      "text/plain": [
       "(3, 3)"
      ]
     },
     "execution_count": 7,
     "metadata": {},
     "output_type": "execute_result"
    }
   ],
   "source": [
    "mat.shape"
   ]
  },
  {
   "cell_type": "markdown",
   "metadata": {},
   "source": [
    "选取数组中的某个特定元素：\n",
    "\n",
    "> 注意：使用`a[m,n]`选取，而不是像python list那样用`a[m][n]`选取。"
   ]
  },
  {
   "cell_type": "code",
   "execution_count": 8,
   "metadata": {
    "collapsed": false
   },
   "outputs": [
    {
     "data": {
      "text/plain": [
       "array([[1, 2],\n",
       "       [3, 4]])"
      ]
     },
     "execution_count": 8,
     "metadata": {},
     "output_type": "execute_result"
    }
   ],
   "source": [
    "a = np.array([ [1, 2], [3, 4] ])\n",
    "a"
   ]
  },
  {
   "cell_type": "code",
   "execution_count": 9,
   "metadata": {
    "collapsed": false
   },
   "outputs": [
    {
     "data": {
      "text/plain": [
       "(3, 4)"
      ]
     },
     "execution_count": 9,
     "metadata": {},
     "output_type": "execute_result"
    }
   ],
   "source": [
    "(a[1,0], a[1,1])"
   ]
  },
  {
   "cell_type": "markdown",
   "metadata": {},
   "source": [
    "#### 数据类型\n",
    "\n",
    "很多函数的参数中可以使用可选的`dtype`指定数据类型："
   ]
  },
  {
   "cell_type": "code",
   "execution_count": 10,
   "metadata": {
    "collapsed": false
   },
   "outputs": [
    {
     "data": {
      "text/plain": [
       "array([0, 1, 2, 3, 4, 5, 6], dtype=uint16)"
      ]
     },
     "execution_count": 10,
     "metadata": {},
     "output_type": "execute_result"
    }
   ],
   "source": [
    "np.arange(7, dtype=np.uint16)"
   ]
  },
  {
   "cell_type": "markdown",
   "metadata": {},
   "source": [
    "数据类型对象是`numpy.dtype`类的实例。\n",
    "\n",
    "> 通过数组的`dtype`属性的`itemsize`属性，可以给出数组的单个元素在内存中占用的字节数"
   ]
  },
  {
   "cell_type": "code",
   "execution_count": 11,
   "metadata": {
    "collapsed": false
   },
   "outputs": [
    {
     "data": {
      "text/plain": [
       "4"
      ]
     },
     "execution_count": 11,
     "metadata": {},
     "output_type": "execute_result"
    }
   ],
   "source": [
    "a.dtype.itemsize"
   ]
  },
  {
   "cell_type": "markdown",
   "metadata": {},
   "source": [
    "可以使用字符自定义数据类型。\n",
    "\n",
    "> 完整的NumPy数据类型列表可以使用`sctypeDict.keys()`查看："
   ]
  },
  {
   "cell_type": "code",
   "execution_count": 12,
   "metadata": {
    "collapsed": false
   },
   "outputs": [
    {
     "data": {
      "text/plain": [
       "dict_keys([0, 1, 2, 3, 4, 5, 6, 7, 8, 'short', 10, 11, 'ubyte', 13, 14, 15, 'longdouble', 17, 18, 19, 20, 21, 'bool', 23, 'clongfloat', 'unicode', 'm8', 'float', 'singlecomplex', 'double', 'UInt16', 'complex_', 'h', 'str', 'P', 'intp', 'complex128', 'g', 'O', 'longlong', 'void', 'int16', 'Complex32', 'timedelta64', 'cdouble', 9, 'I', 'uintc', 'Str0', 'D', 'str0', 'float64', 'u4', 'f', 12, 'Timedelta64', 'i1', 'float32', 'byte', 'Void0', 'u1', 'Object0', 'm', 'csingle', 'intc', 'int0', 'void0', 'uint16', 'V', 16, 'Float64', 'e', 'uint32', '?', 'S', 'uint8', 'bytes0', 'c16', 'uint', 'i2', 'Int32', 'clongdouble', 'u8', 'float_', 'int8', 'object0', 'L', 'Float16', 'd', 22, 'Int64', 'Bool', 'i8', 'H', 'UInt8', 'uint64', 'i4', 'Q', 'string_', 'p', 'G', 'i', 'uintp', 'Bytes0', 'bytes_', 'longfloat', 'b', 'object_', 'unicode_', 'M8', 'Float32', 'complex64', 'a', 'B', 'int64', 'long', 'str_', 'Int16', 'bool_', 'f8', 'f4', 'M', 'u2', 'c8', 'float16', 'longcomplex', 'Datetime64', 'ulonglong', 'object', 'q', 'single', 'datetime64', 'bytes', 'int', 'U', 'int_', 'f2', 'UInt64', 'l', 'b1', 'Complex64', 'int32', 'F', 'complex', 'UInt32', 'half', 'uint0', 'ushort', 'cfloat', 'bool8', 'Int8'])"
      ]
     },
     "execution_count": 12,
     "metadata": {},
     "output_type": "execute_result"
    }
   ],
   "source": [
    "np.sctypeDict.keys()"
   ]
  },
  {
   "cell_type": "markdown",
   "metadata": {},
   "source": [
    "> dtype类的字符编码可以用它的`char`属性获得，不过通常不建议使用字符编码。"
   ]
  },
  {
   "cell_type": "code",
   "execution_count": 13,
   "metadata": {
    "collapsed": false
   },
   "outputs": [
    {
     "data": {
      "text/plain": [
       "'f'"
      ]
     },
     "execution_count": 13,
     "metadata": {},
     "output_type": "execute_result"
    }
   ],
   "source": [
    "t = np.dtype('float32')\n",
    "t.char"
   ]
  },
  {
   "cell_type": "markdown",
   "metadata": {},
   "source": [
    "`dtype`和`np.{type}`类型有微妙的差别，但可以认为`np.{type}`只是快速访问`dtype`的方式。见[NumPy文档的说明](http://docs.scipy.org/doc/numpy/user/basics.types.html)："
   ]
  },
  {
   "cell_type": "code",
   "execution_count": 14,
   "metadata": {
    "collapsed": false
   },
   "outputs": [
    {
     "data": {
      "text/plain": [
       "[type, numpy.dtype]"
      ]
     },
     "execution_count": 14,
     "metadata": {},
     "output_type": "execute_result"
    }
   ],
   "source": [
    "[type(np.float32), type(np.dtype('float32'))]"
   ]
  },
  {
   "cell_type": "code",
   "execution_count": 15,
   "metadata": {
    "collapsed": false
   },
   "outputs": [],
   "source": [
    "float_arr1 = np.arange(3, dtype=np.float32)\n",
    "float_arr2 = np.arange(3, dtype=np.dtype('float32'))"
   ]
  },
  {
   "cell_type": "code",
   "execution_count": 16,
   "metadata": {
    "collapsed": false,
    "scrolled": false
   },
   "outputs": [
    {
     "data": {
      "text/plain": [
       "True"
      ]
     },
     "execution_count": 16,
     "metadata": {},
     "output_type": "execute_result"
    }
   ],
   "source": [
    "float_arr1.dtype is float_arr2.dtype"
   ]
  },
  {
   "cell_type": "code",
   "execution_count": null,
   "metadata": {
    "collapsed": true
   },
   "outputs": [],
   "source": []
  }
 ],
 "metadata": {
  "kernelspec": {
   "display_name": "Python 3",
   "language": "python",
   "name": "python3"
  },
  "language_info": {
   "codemirror_mode": {
    "name": "ipython",
    "version": 3
   },
   "file_extension": ".py",
   "mimetype": "text/x-python",
   "name": "python",
   "nbconvert_exporter": "python",
   "pygments_lexer": "ipython3",
   "version": "3.5.2"
  }
 },
 "nbformat": 4,
 "nbformat_minor": 1
}
